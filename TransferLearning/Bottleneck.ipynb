{
 "cells": [
  {
   "cell_type": "markdown",
   "metadata": {
    "collapsed": true
   },
   "source": [
    "![alt text](markdown\\vgg16_original.png)"
   ]
  },
  {
   "cell_type": "markdown",
   "metadata": {},
   "source": [
    "# Take the pre-trained VGG16 model"
   ]
  },
  {
   "cell_type": "code",
   "execution_count": 1,
   "metadata": {},
   "outputs": [
    {
     "name": "stderr",
     "output_type": "stream",
     "text": [
      "Using TensorFlow backend.\n"
     ]
    }
   ],
   "source": [
    "import numpy as np\n",
    "from keras.applications.vgg16 import VGG16\n",
    "base_model = VGG16(weights='imagenet', include_top=False, input_shape=(224,224,3))"
   ]
  },
  {
   "cell_type": "markdown",
   "metadata": {},
   "source": [
    "# Pre-processing the train and validation datasets, feed into the pre-trained model and get the bottleneck features"
   ]
  },
  {
   "cell_type": "code",
   "execution_count": 3,
   "metadata": {
    "collapsed": true
   },
   "outputs": [],
   "source": [
    "from keras.preprocessing.image import ImageDataGenerator\n",
    "batch_size = 16\n",
    "datagen = ImageDataGenerator(rescale = 1./255)"
   ]
  },
  {
   "cell_type": "code",
   "execution_count": null,
   "metadata": {
    "collapsed": true
   },
   "outputs": [],
   "source": [
    "generator = datagen.flow_from_directory(\n",
    "        'data/train',\n",
    "        target_size=(224, 224),\n",
    "        batch_size=batch_size,\n",
    "        class_mode=None,  # this means our generator will only yield batches of data, no labels\n",
    "        shuffle=False)  # our data will be in order, so all first 1000 images will be one class, then 1000 another\n",
    "# the predict_generator method returns the output of a model, given\n",
    "# a generator that yields batches of numpy data\n",
    "# bottleneck_features_train = base_model.predict_generator(generator, 2000)\n",
    "bottleneck_features_train = base_model.predict_generator(generator, int(np.ceil(1500 / batch_size)))"
   ]
  },
  {
   "cell_type": "markdown",
   "metadata": {},
   "source": [
    "Error we got:\n",
    "![alt text](markdown\\died.png)\n",
    "Cause: lack of memory\n",
    "<br>\n",
    "Solution: increase memory"
   ]
  },
  {
   "cell_type": "code",
   "execution_count": 7,
   "metadata": {
    "collapsed": true
   },
   "outputs": [],
   "source": [
    "# save the output as a Numpy array\n",
    "# np.save(open('bottleneck_features_train.npy', 'w'), bottleneck_features_train)\n",
    "# np.save(open('bottleneck_features_train.npy', 'wb'), bottleneck_features_train)\n",
    "np.save('bottleneck_features_train.npy', bottleneck_features_train)"
   ]
  },
  {
   "cell_type": "markdown",
   "metadata": {},
   "source": [
    "Error we got:\n",
    "![alt text](markdown\\error1.png)\n",
    "Cause: probably due to the version of python and numpy\n",
    "<br>\n",
    "Solution: open in binary mode or use np.save directly without open"
   ]
  },
  {
   "cell_type": "code",
   "execution_count": 8,
   "metadata": {},
   "outputs": [
    {
     "name": "stdout",
     "output_type": "stream",
     "text": [
      "Found 200 images belonging to 2 classes.\n"
     ]
    }
   ],
   "source": [
    "generator = datagen.flow_from_directory(\n",
    "        'data/validation',\n",
    "        target_size=(224, 224),\n",
    "        batch_size=batch_size,\n",
    "        class_mode=None,\n",
    "        shuffle=False)\n",
    "# bottleneck_features_validation = model.predict_generator(generator, 800)\n",
    "bottleneck_features_validation = base_model.predict_generator(generator, int(np.ceil(200 / batch_size)))"
   ]
  },
  {
   "cell_type": "code",
   "execution_count": 9,
   "metadata": {
    "collapsed": true
   },
   "outputs": [],
   "source": [
    "# np.save(open('bottleneck_features_validation.npy', 'w'), bottleneck_features_validation)\n",
    "# np.save(open('bottleneck_features_validation.npy', 'wb'), bottleneck_features_validation)\n",
    "np.save('bottleneck_features_validation.npy', bottleneck_features_validation)"
   ]
  },
  {
   "cell_type": "markdown",
   "metadata": {},
   "source": [
    "# Label the bottleneck features which will be the input of the classifier we build"
   ]
  },
  {
   "cell_type": "code",
   "execution_count": 4,
   "metadata": {
    "collapsed": true
   },
   "outputs": [],
   "source": [
    "# train_data = np.load(open('bottleneck_features_train.npy'))\n",
    "# train_data = np.load(open('bottleneck_features_train.npy', 'rb'))\n",
    "train_data = np.load('bottleneck_features_train.npy')\n",
    "# the features were saved in order, so recreating the labels is easy\n",
    "train_labels = np.array([0] * 750 + [1] * 750)"
   ]
  },
  {
   "cell_type": "markdown",
   "metadata": {},
   "source": [
    "Error we got:\n",
    "![alt text](markdown\\error2.png)\n",
    "Cause: probably due to the version of python and numpy\n",
    "<br>\n",
    "Solution: open in binary mode or use np.load directly without open"
   ]
  },
  {
   "cell_type": "code",
   "execution_count": 5,
   "metadata": {
    "collapsed": true
   },
   "outputs": [],
   "source": [
    "# validation_data = np.load(open('bottleneck_features_validation.npy'))\n",
    "# validation_data = np.load(open('bottleneck_features_validation.npy', 'rb'))\n",
    "validation_data = np.load('bottleneck_features_validation.npy')\n",
    "validation_labels = np.array([0] * 100 + [1] * 100)"
   ]
  },
  {
   "cell_type": "markdown",
   "metadata": {},
   "source": [
    "![alt text](markdown\\vgg16.png)"
   ]
  },
  {
   "cell_type": "markdown",
   "metadata": {},
   "source": [
    "# Build the classifier and train it using the bottleneck features."
   ]
  },
  {
   "cell_type": "code",
   "execution_count": 3,
   "metadata": {
    "collapsed": true
   },
   "outputs": [],
   "source": [
    "from keras.models import Sequential, Model\n",
    "from keras.layers import Dropout, Flatten, Dense\n",
    "from keras import optimizers"
   ]
  },
  {
   "cell_type": "markdown",
   "metadata": {
    "collapsed": true
   },
   "source": [
    "Error we got when we try to train the model:\n",
    "![alt text](markdown\\error3.png)\n",
    "Cause: when we call base_model.predict_generator(generator, 2000), we didn't devide the number of samples by the batch size. So it generates 2000 * 16 = 32000 samples.\n",
    "<br>\n",
    "Solution: devide the number of samples by the batch size"
   ]
  },
  {
   "cell_type": "code",
   "execution_count": 13,
   "metadata": {
    "scrolled": true
   },
   "outputs": [
    {
     "name": "stdout",
     "output_type": "stream",
     "text": [
      "Train on 1500 samples, validate on 200 samples\n",
      "Epoch 1/300\n",
      "1500/1500 [==============================] - 6s - loss: 0.6946 - acc: 0.6600 - val_loss: 0.5725 - val_acc: 0.6350\n",
      "Epoch 2/300\n",
      "1500/1500 [==============================] - 5s - loss: 0.4938 - acc: 0.7713 - val_loss: 0.5843 - val_acc: 0.6450\n",
      "Epoch 3/300\n",
      "1500/1500 [==============================] - 5s - loss: 0.4417 - acc: 0.7907 - val_loss: 0.3247 - val_acc: 0.8450\n",
      "Epoch 4/300\n",
      "1500/1500 [==============================] - 5s - loss: 0.4385 - acc: 0.7927 - val_loss: 0.3430 - val_acc: 0.8500\n",
      "Epoch 5/300\n",
      "1500/1500 [==============================] - 5s - loss: 0.3866 - acc: 0.8300 - val_loss: 0.3046 - val_acc: 0.8500\n",
      "Epoch 6/300\n",
      "1500/1500 [==============================] - 5s - loss: 0.3741 - acc: 0.8353 - val_loss: 0.3816 - val_acc: 0.8100\n",
      "Epoch 7/300\n",
      "1500/1500 [==============================] - 5s - loss: 0.3450 - acc: 0.8487 - val_loss: 0.3167 - val_acc: 0.8850\n",
      "Epoch 8/300\n",
      "1500/1500 [==============================] - 5s - loss: 0.3196 - acc: 0.8673 - val_loss: 0.2590 - val_acc: 0.8700\n",
      "Epoch 9/300\n",
      "1500/1500 [==============================] - 5s - loss: 0.3233 - acc: 0.8720 - val_loss: 0.4076 - val_acc: 0.8150\n",
      "Epoch 10/300\n",
      "1500/1500 [==============================] - 5s - loss: 0.3046 - acc: 0.8753 - val_loss: 0.4037 - val_acc: 0.8400\n",
      "Epoch 11/300\n",
      "1500/1500 [==============================] - 6s - loss: 0.2817 - acc: 0.8793 - val_loss: 0.2848 - val_acc: 0.8500\n",
      "Epoch 12/300\n",
      "1500/1500 [==============================] - 5s - loss: 0.2601 - acc: 0.8953 - val_loss: 0.3293 - val_acc: 0.8800\n",
      "Epoch 13/300\n",
      "1500/1500 [==============================] - 5s - loss: 0.2708 - acc: 0.8907 - val_loss: 0.3366 - val_acc: 0.8250\n",
      "Epoch 14/300\n",
      "1500/1500 [==============================] - 5s - loss: 0.2461 - acc: 0.9000 - val_loss: 0.2697 - val_acc: 0.8550\n",
      "Epoch 15/300\n",
      "1500/1500 [==============================] - 5s - loss: 0.2714 - acc: 0.8813 - val_loss: 0.2596 - val_acc: 0.8600\n",
      "Epoch 16/300\n",
      "1500/1500 [==============================] - 5s - loss: 0.2332 - acc: 0.9093 - val_loss: 0.2358 - val_acc: 0.8900\n",
      "Epoch 17/300\n",
      "1500/1500 [==============================] - 5s - loss: 0.2244 - acc: 0.9000 - val_loss: 0.2671 - val_acc: 0.8700\n",
      "Epoch 18/300\n",
      "1500/1500 [==============================] - 5s - loss: 0.2102 - acc: 0.9160 - val_loss: 0.4091 - val_acc: 0.8400\n",
      "Epoch 19/300\n",
      "1500/1500 [==============================] - 5s - loss: 0.2097 - acc: 0.9167 - val_loss: 0.3127 - val_acc: 0.8450\n",
      "Epoch 20/300\n",
      "1500/1500 [==============================] - 5s - loss: 0.1987 - acc: 0.9247 - val_loss: 0.4184 - val_acc: 0.8300\n",
      "Epoch 21/300\n",
      "1500/1500 [==============================] - 5s - loss: 0.2151 - acc: 0.9120 - val_loss: 0.3866 - val_acc: 0.8300\n",
      "Epoch 22/300\n",
      "1500/1500 [==============================] - 5s - loss: 0.1847 - acc: 0.9287 - val_loss: 0.4395 - val_acc: 0.8450\n",
      "Epoch 23/300\n",
      "1500/1500 [==============================] - 5s - loss: 0.1864 - acc: 0.9260 - val_loss: 0.4044 - val_acc: 0.8300\n",
      "Epoch 24/300\n",
      "1500/1500 [==============================] - 5s - loss: 0.1839 - acc: 0.9213 - val_loss: 0.2297 - val_acc: 0.8850\n",
      "Epoch 25/300\n",
      "1500/1500 [==============================] - 5s - loss: 0.1873 - acc: 0.9247 - val_loss: 0.2630 - val_acc: 0.8800\n",
      "Epoch 26/300\n",
      "1500/1500 [==============================] - 6s - loss: 0.1795 - acc: 0.9253 - val_loss: 0.3368 - val_acc: 0.8450\n",
      "Epoch 27/300\n",
      "1500/1500 [==============================] - 5s - loss: 0.1755 - acc: 0.9267 - val_loss: 0.2483 - val_acc: 0.8850\n",
      "Epoch 28/300\n",
      "1500/1500 [==============================] - 5s - loss: 0.1720 - acc: 0.9273 - val_loss: 0.2590 - val_acc: 0.8750\n",
      "Epoch 29/300\n",
      "1500/1500 [==============================] - 5s - loss: 0.1526 - acc: 0.9367 - val_loss: 0.2402 - val_acc: 0.9050\n",
      "Epoch 30/300\n",
      "1500/1500 [==============================] - 5s - loss: 0.1525 - acc: 0.9400 - val_loss: 0.2355 - val_acc: 0.8950\n",
      "Epoch 31/300\n",
      "1500/1500 [==============================] - 5s - loss: 0.1631 - acc: 0.9340 - val_loss: 0.3097 - val_acc: 0.8700\n",
      "Epoch 32/300\n",
      "1500/1500 [==============================] - 5s - loss: 0.1528 - acc: 0.9440 - val_loss: 0.3172 - val_acc: 0.8650\n",
      "Epoch 33/300\n",
      "1500/1500 [==============================] - 5s - loss: 0.1569 - acc: 0.9333 - val_loss: 0.2430 - val_acc: 0.9050\n",
      "Epoch 34/300\n",
      "1500/1500 [==============================] - 5s - loss: 0.1595 - acc: 0.9300 - val_loss: 0.2786 - val_acc: 0.8700\n",
      "Epoch 35/300\n",
      "1500/1500 [==============================] - 5s - loss: 0.1634 - acc: 0.9340 - val_loss: 0.2438 - val_acc: 0.8800\n",
      "Epoch 36/300\n",
      "1500/1500 [==============================] - 5s - loss: 0.1185 - acc: 0.9527 - val_loss: 0.2529 - val_acc: 0.9000\n",
      "Epoch 37/300\n",
      "1500/1500 [==============================] - 5s - loss: 0.1364 - acc: 0.9467 - val_loss: 0.2249 - val_acc: 0.9000\n",
      "Epoch 38/300\n",
      "1500/1500 [==============================] - 5s - loss: 0.1498 - acc: 0.9407 - val_loss: 0.2449 - val_acc: 0.8850\n",
      "Epoch 39/300\n",
      "1500/1500 [==============================] - 5s - loss: 0.1242 - acc: 0.9513 - val_loss: 0.2548 - val_acc: 0.9050\n",
      "Epoch 40/300\n",
      "1500/1500 [==============================] - 5s - loss: 0.1364 - acc: 0.9407 - val_loss: 0.3305 - val_acc: 0.8600\n",
      "Epoch 41/300\n",
      "1500/1500 [==============================] - 5s - loss: 0.1274 - acc: 0.9467 - val_loss: 0.2779 - val_acc: 0.8650\n",
      "Epoch 42/300\n",
      "1500/1500 [==============================] - 5s - loss: 0.1366 - acc: 0.9367 - val_loss: 0.5217 - val_acc: 0.8250\n",
      "Epoch 43/300\n",
      "1500/1500 [==============================] - 5s - loss: 0.1420 - acc: 0.9427 - val_loss: 0.3694 - val_acc: 0.8400\n",
      "Epoch 44/300\n",
      "1500/1500 [==============================] - 5s - loss: 0.1516 - acc: 0.9333 - val_loss: 0.3581 - val_acc: 0.8600\n",
      "Epoch 45/300\n",
      "1500/1500 [==============================] - 5s - loss: 0.1632 - acc: 0.9387 - val_loss: 0.2746 - val_acc: 0.8750\n",
      "Epoch 46/300\n",
      "1500/1500 [==============================] - 5s - loss: 0.1147 - acc: 0.9547 - val_loss: 0.2745 - val_acc: 0.8500\n",
      "Epoch 47/300\n",
      "1500/1500 [==============================] - 5s - loss: 0.1001 - acc: 0.9633 - val_loss: 0.3744 - val_acc: 0.8550\n",
      "Epoch 48/300\n",
      "1500/1500 [==============================] - 5s - loss: 0.1099 - acc: 0.9593 - val_loss: 0.2409 - val_acc: 0.8950\n",
      "Epoch 49/300\n",
      "1500/1500 [==============================] - 5s - loss: 0.0828 - acc: 0.9713 - val_loss: 0.2628 - val_acc: 0.9050\n",
      "Epoch 50/300\n",
      "1500/1500 [==============================] - 5s - loss: 0.0847 - acc: 0.9660 - val_loss: 0.5251 - val_acc: 0.8400\n",
      "Epoch 51/300\n",
      "1500/1500 [==============================] - 5s - loss: 0.0989 - acc: 0.9600 - val_loss: 0.2889 - val_acc: 0.8950\n",
      "Epoch 52/300\n",
      "1500/1500 [==============================] - 5s - loss: 0.1077 - acc: 0.9567 - val_loss: 0.2563 - val_acc: 0.9000\n",
      "Epoch 53/300\n",
      "1500/1500 [==============================] - 5s - loss: 0.2099 - acc: 0.9220 - val_loss: 0.9240 - val_acc: 0.7000\n",
      "Epoch 54/300\n",
      "1500/1500 [==============================] - 5s - loss: 0.1834 - acc: 0.9287 - val_loss: 0.2370 - val_acc: 0.9100\n",
      "Epoch 55/300\n",
      "1500/1500 [==============================] - 5s - loss: 0.1236 - acc: 0.9480 - val_loss: 0.2557 - val_acc: 0.8950\n",
      "Epoch 56/300\n",
      "1500/1500 [==============================] - 5s - loss: 0.0995 - acc: 0.9607 - val_loss: 0.2670 - val_acc: 0.8900\n",
      "Epoch 57/300\n",
      "1500/1500 [==============================] - 5s - loss: 0.0967 - acc: 0.9593 - val_loss: 0.2486 - val_acc: 0.8900\n",
      "Epoch 58/300\n",
      "1500/1500 [==============================] - 5s - loss: 0.2109 - acc: 0.9147 - val_loss: 0.2287 - val_acc: 0.9100\n",
      "Epoch 59/300\n",
      "1500/1500 [==============================] - 5s - loss: 0.1287 - acc: 0.9500 - val_loss: 0.2388 - val_acc: 0.8950\n",
      "Epoch 60/300\n",
      "1500/1500 [==============================] - 6s - loss: 0.1150 - acc: 0.9553 - val_loss: 0.2554 - val_acc: 0.9050\n",
      "Epoch 61/300\n",
      "1500/1500 [==============================] - 5s - loss: 0.1430 - acc: 0.9393 - val_loss: 0.3104 - val_acc: 0.8650\n",
      "Epoch 62/300\n",
      "1500/1500 [==============================] - 5s - loss: 0.0927 - acc: 0.9627 - val_loss: 0.3767 - val_acc: 0.8550\n",
      "Epoch 63/300\n",
      "1500/1500 [==============================] - 5s - loss: 0.2370 - acc: 0.9140 - val_loss: 0.9254 - val_acc: 0.6000\n",
      "Epoch 64/300\n",
      "1500/1500 [==============================] - 5s - loss: 0.2084 - acc: 0.9087 - val_loss: 0.4885 - val_acc: 0.8150\n",
      "Epoch 65/300\n",
      "1500/1500 [==============================] - 5s - loss: 0.1346 - acc: 0.9480 - val_loss: 0.2515 - val_acc: 0.8900\n",
      "Epoch 66/300\n",
      "1500/1500 [==============================] - 5s - loss: 0.1771 - acc: 0.9280 - val_loss: 0.4038 - val_acc: 0.8400\n",
      "Epoch 67/300\n",
      "1500/1500 [==============================] - 5s - loss: 0.1676 - acc: 0.9293 - val_loss: 0.2991 - val_acc: 0.8800\n",
      "Epoch 68/300\n",
      "1500/1500 [==============================] - 5s - loss: 0.1798 - acc: 0.9353 - val_loss: 0.4307 - val_acc: 0.8450\n",
      "Epoch 69/300\n",
      "1500/1500 [==============================] - 5s - loss: 0.1775 - acc: 0.9353 - val_loss: 0.3045 - val_acc: 0.8650\n",
      "Epoch 70/300\n",
      "1500/1500 [==============================] - 5s - loss: 0.1165 - acc: 0.9547 - val_loss: 0.2783 - val_acc: 0.8850\n",
      "Epoch 71/300\n",
      "1500/1500 [==============================] - 5s - loss: 0.1031 - acc: 0.9593 - val_loss: 0.2962 - val_acc: 0.8850\n",
      "Epoch 72/300\n",
      "1500/1500 [==============================] - 5s - loss: 0.1306 - acc: 0.9487 - val_loss: 0.2461 - val_acc: 0.9000\n",
      "Epoch 73/300\n",
      "1500/1500 [==============================] - 5s - loss: 0.1093 - acc: 0.9513 - val_loss: 0.2933 - val_acc: 0.8550\n",
      "Epoch 74/300\n",
      "1500/1500 [==============================] - 5s - loss: 0.0888 - acc: 0.9620 - val_loss: 0.2282 - val_acc: 0.9050\n",
      "Epoch 75/300\n",
      "1500/1500 [==============================] - 5s - loss: 0.1631 - acc: 0.9407 - val_loss: 0.2720 - val_acc: 0.8700\n",
      "Epoch 76/300\n",
      "1500/1500 [==============================] - 5s - loss: 0.1692 - acc: 0.9267 - val_loss: 0.2474 - val_acc: 0.8850\n",
      "Epoch 77/300\n",
      "1500/1500 [==============================] - 5s - loss: 0.1526 - acc: 0.9373 - val_loss: 0.6381 - val_acc: 0.7900\n",
      "Epoch 78/300\n",
      "1500/1500 [==============================] - 5s - loss: 0.0986 - acc: 0.9627 - val_loss: 0.2401 - val_acc: 0.8850\n",
      "Epoch 79/300\n",
      "1500/1500 [==============================] - 5s - loss: 0.1303 - acc: 0.9487 - val_loss: 0.5264 - val_acc: 0.8400\n",
      "Epoch 80/300\n",
      "1500/1500 [==============================] - 5s - loss: 0.1402 - acc: 0.9440 - val_loss: 0.2616 - val_acc: 0.9050\n",
      "Epoch 81/300\n",
      "1500/1500 [==============================] - 5s - loss: 0.0862 - acc: 0.9713 - val_loss: 0.2545 - val_acc: 0.9050\n",
      "Epoch 82/300\n",
      "1500/1500 [==============================] - 5s - loss: 0.0838 - acc: 0.9693 - val_loss: 0.2758 - val_acc: 0.9100\n",
      "Epoch 83/300\n",
      "1500/1500 [==============================] - 5s - loss: 0.0763 - acc: 0.9713 - val_loss: 0.2968 - val_acc: 0.8950\n",
      "Epoch 84/300\n",
      "1500/1500 [==============================] - 5s - loss: 0.0742 - acc: 0.9720 - val_loss: 0.3086 - val_acc: 0.9100\n",
      "Epoch 85/300\n",
      "1500/1500 [==============================] - 5s - loss: 0.0572 - acc: 0.9787 - val_loss: 0.2839 - val_acc: 0.9050\n",
      "Epoch 86/300\n",
      "1500/1500 [==============================] - 5s - loss: 0.0739 - acc: 0.9707 - val_loss: 0.2778 - val_acc: 0.9050\n",
      "Epoch 87/300\n",
      "1500/1500 [==============================] - 5s - loss: 0.0604 - acc: 0.9773 - val_loss: 0.3196 - val_acc: 0.8650\n",
      "Epoch 88/300\n",
      "1500/1500 [==============================] - 5s - loss: 0.1795 - acc: 0.9333 - val_loss: 0.2436 - val_acc: 0.9100\n",
      "Epoch 89/300\n",
      "1500/1500 [==============================] - 5s - loss: 0.0811 - acc: 0.9700 - val_loss: 0.2823 - val_acc: 0.9050\n",
      "Epoch 90/300\n",
      "1500/1500 [==============================] - 5s - loss: 0.1815 - acc: 0.9240 - val_loss: 0.2455 - val_acc: 0.9000\n",
      "Epoch 91/300\n",
      "1500/1500 [==============================] - 5s - loss: 0.2026 - acc: 0.9200 - val_loss: 0.2898 - val_acc: 0.8550\n",
      "Epoch 92/300\n",
      "1500/1500 [==============================] - 5s - loss: 0.2951 - acc: 0.8647 - val_loss: 0.4681 - val_acc: 0.8050\n",
      "Epoch 93/300\n",
      "1500/1500 [==============================] - 5s - loss: 0.2085 - acc: 0.9160 - val_loss: 0.2529 - val_acc: 0.8700\n",
      "Epoch 94/300\n",
      "1500/1500 [==============================] - 5s - loss: 0.1961 - acc: 0.9233 - val_loss: 0.2459 - val_acc: 0.9100\n",
      "Epoch 95/300\n",
      "1500/1500 [==============================] - 5s - loss: 0.1406 - acc: 0.9440 - val_loss: 0.3029 - val_acc: 0.8550\n",
      "Epoch 96/300\n",
      "1500/1500 [==============================] - 5s - loss: 0.1500 - acc: 0.9440 - val_loss: 0.3210 - val_acc: 0.8700\n",
      "Epoch 97/300\n",
      "1500/1500 [==============================] - 5s - loss: 0.1168 - acc: 0.9547 - val_loss: 0.2609 - val_acc: 0.9050\n",
      "Epoch 98/300\n",
      "1500/1500 [==============================] - 5s - loss: 0.1590 - acc: 0.9327 - val_loss: 0.2803 - val_acc: 0.8700\n",
      "Epoch 99/300\n",
      "1500/1500 [==============================] - 5s - loss: 0.1564 - acc: 0.9360 - val_loss: 0.2757 - val_acc: 0.8650\n",
      "Epoch 100/300\n",
      "1500/1500 [==============================] - 5s - loss: 0.1204 - acc: 0.9553 - val_loss: 0.2608 - val_acc: 0.8950\n",
      "Epoch 101/300\n",
      "1500/1500 [==============================] - 5s - loss: 0.1303 - acc: 0.9473 - val_loss: 0.2384 - val_acc: 0.9000\n",
      "Epoch 102/300\n",
      "1500/1500 [==============================] - 5s - loss: 0.1229 - acc: 0.9567 - val_loss: 0.3467 - val_acc: 0.8700\n",
      "Epoch 103/300\n",
      "1500/1500 [==============================] - 5s - loss: 0.1680 - acc: 0.9287 - val_loss: 0.2678 - val_acc: 0.9000\n",
      "Epoch 104/300\n",
      "1500/1500 [==============================] - 5s - loss: 0.1140 - acc: 0.9553 - val_loss: 0.2883 - val_acc: 0.8900\n",
      "Epoch 105/300\n",
      "1500/1500 [==============================] - 5s - loss: 0.1051 - acc: 0.9573 - val_loss: 0.3149 - val_acc: 0.9000\n",
      "Epoch 106/300\n",
      "1500/1500 [==============================] - 5s - loss: 0.1114 - acc: 0.9580 - val_loss: 0.4347 - val_acc: 0.8800\n",
      "Epoch 107/300\n",
      "1500/1500 [==============================] - 5s - loss: 0.0916 - acc: 0.9613 - val_loss: 0.2927 - val_acc: 0.9050\n",
      "Epoch 108/300\n",
      "1500/1500 [==============================] - 5s - loss: 0.1471 - acc: 0.9367 - val_loss: 0.3688 - val_acc: 0.8400\n",
      "Epoch 109/300\n",
      "1500/1500 [==============================] - 5s - loss: 0.1307 - acc: 0.9547 - val_loss: 0.3045 - val_acc: 0.8600\n",
      "Epoch 110/300\n",
      "1500/1500 [==============================] - 5s - loss: 0.1747 - acc: 0.9387 - val_loss: 0.3605 - val_acc: 0.8550\n",
      "Epoch 111/300\n",
      "1500/1500 [==============================] - 5s - loss: 0.1798 - acc: 0.9320 - val_loss: 0.3064 - val_acc: 0.8900\n",
      "Epoch 112/300\n",
      "1500/1500 [==============================] - 5s - loss: 0.1226 - acc: 0.9520 - val_loss: 0.2185 - val_acc: 0.9050\n",
      "Epoch 113/300\n",
      "1500/1500 [==============================] - 5s - loss: 0.2221 - acc: 0.9133 - val_loss: 0.2791 - val_acc: 0.8750\n",
      "Epoch 114/300\n",
      "1500/1500 [==============================] - 5s - loss: 0.1403 - acc: 0.9480 - val_loss: 0.2981 - val_acc: 0.8550\n",
      "Epoch 115/300\n",
      "1500/1500 [==============================] - 5s - loss: 0.2171 - acc: 0.9153 - val_loss: 0.3002 - val_acc: 0.8700\n",
      "Epoch 116/300\n",
      "1500/1500 [==============================] - 5s - loss: 0.2526 - acc: 0.8900 - val_loss: 0.2944 - val_acc: 0.8500\n",
      "Epoch 117/300\n",
      "1500/1500 [==============================] - 5s - loss: 0.2473 - acc: 0.8953 - val_loss: 0.5148 - val_acc: 0.7700\n",
      "Epoch 118/300\n",
      "1500/1500 [==============================] - 5s - loss: 0.2374 - acc: 0.8980 - val_loss: 0.2312 - val_acc: 0.8900\n",
      "Epoch 119/300\n",
      "1500/1500 [==============================] - 5s - loss: 0.1597 - acc: 0.9333 - val_loss: 0.2375 - val_acc: 0.8900\n",
      "Epoch 120/300\n",
      "1500/1500 [==============================] - 5s - loss: 0.1452 - acc: 0.9480 - val_loss: 0.4046 - val_acc: 0.8500\n",
      "Epoch 121/300\n",
      "1500/1500 [==============================] - 5s - loss: 0.1895 - acc: 0.9187 - val_loss: 0.2671 - val_acc: 0.8850\n",
      "Epoch 122/300\n",
      "1500/1500 [==============================] - 5s - loss: 0.1988 - acc: 0.9187 - val_loss: 0.2780 - val_acc: 0.8900\n",
      "Epoch 123/300\n",
      "1500/1500 [==============================] - 5s - loss: 0.1839 - acc: 0.9253 - val_loss: 0.2348 - val_acc: 0.8950\n",
      "Epoch 124/300\n",
      "1500/1500 [==============================] - 5s - loss: 0.2296 - acc: 0.8987 - val_loss: 0.2697 - val_acc: 0.8750\n",
      "Epoch 125/300\n",
      "1500/1500 [==============================] - 5s - loss: 0.1787 - acc: 0.9213 - val_loss: 0.4076 - val_acc: 0.8300\n",
      "Epoch 126/300\n",
      "1500/1500 [==============================] - 5s - loss: 0.1604 - acc: 0.9380 - val_loss: 0.2362 - val_acc: 0.8950\n",
      "Epoch 127/300\n",
      "1500/1500 [==============================] - 5s - loss: 0.1263 - acc: 0.9447 - val_loss: 0.2955 - val_acc: 0.8700\n",
      "Epoch 128/300\n",
      "1500/1500 [==============================] - 5s - loss: 0.1552 - acc: 0.9380 - val_loss: 0.2357 - val_acc: 0.8750\n",
      "Epoch 129/300\n"
     ]
    },
    {
     "name": "stdout",
     "output_type": "stream",
     "text": [
      "1500/1500 [==============================] - 5s - loss: 0.1176 - acc: 0.9500 - val_loss: 0.2884 - val_acc: 0.8850\n",
      "Epoch 130/300\n",
      "1500/1500 [==============================] - 5s - loss: 0.1415 - acc: 0.9460 - val_loss: 0.3669 - val_acc: 0.8450\n",
      "Epoch 131/300\n",
      "1500/1500 [==============================] - 5s - loss: 0.1361 - acc: 0.9500 - val_loss: 0.2789 - val_acc: 0.9000\n",
      "Epoch 132/300\n",
      "1500/1500 [==============================] - 5s - loss: 0.1232 - acc: 0.9493 - val_loss: 0.4028 - val_acc: 0.8550\n",
      "Epoch 133/300\n",
      "1500/1500 [==============================] - 5s - loss: 0.1615 - acc: 0.9320 - val_loss: 0.2911 - val_acc: 0.8750\n",
      "Epoch 134/300\n",
      "1500/1500 [==============================] - 5s - loss: 0.0865 - acc: 0.9627 - val_loss: 0.2747 - val_acc: 0.9000\n",
      "Epoch 135/300\n",
      "1500/1500 [==============================] - 5s - loss: 0.1715 - acc: 0.9280 - val_loss: 0.2856 - val_acc: 0.8850\n",
      "Epoch 136/300\n",
      "1500/1500 [==============================] - 5s - loss: 0.1160 - acc: 0.9553 - val_loss: 0.2496 - val_acc: 0.8750\n",
      "Epoch 137/300\n",
      "1500/1500 [==============================] - 5s - loss: 0.1283 - acc: 0.9513 - val_loss: 0.2517 - val_acc: 0.9100\n",
      "Epoch 138/300\n",
      "1500/1500 [==============================] - 5s - loss: 0.1172 - acc: 0.9473 - val_loss: 0.2559 - val_acc: 0.8850\n",
      "Epoch 139/300\n",
      "1500/1500 [==============================] - 5s - loss: 0.0881 - acc: 0.9660 - val_loss: 0.3258 - val_acc: 0.8900\n",
      "Epoch 140/300\n",
      "1500/1500 [==============================] - 5s - loss: 0.1000 - acc: 0.9580 - val_loss: 0.2590 - val_acc: 0.9100\n",
      "Epoch 141/300\n",
      "1500/1500 [==============================] - 5s - loss: 0.1168 - acc: 0.9493 - val_loss: 0.2637 - val_acc: 0.9000\n",
      "Epoch 142/300\n",
      "1500/1500 [==============================] - 5s - loss: 0.1360 - acc: 0.9547 - val_loss: 0.2598 - val_acc: 0.8900\n",
      "Epoch 143/300\n",
      "1500/1500 [==============================] - 5s - loss: 0.2021 - acc: 0.9247 - val_loss: 0.3578 - val_acc: 0.8600\n",
      "Epoch 144/300\n",
      "1500/1500 [==============================] - 5s - loss: 0.1471 - acc: 0.9413 - val_loss: 0.2719 - val_acc: 0.8650\n",
      "Epoch 145/300\n",
      "1500/1500 [==============================] - 5s - loss: 0.1801 - acc: 0.9280 - val_loss: 0.9693 - val_acc: 0.7200\n",
      "Epoch 146/300\n",
      "1500/1500 [==============================] - 5s - loss: 0.2005 - acc: 0.9147 - val_loss: 0.2565 - val_acc: 0.8950\n",
      "Epoch 147/300\n",
      "1500/1500 [==============================] - 5s - loss: 0.1224 - acc: 0.9480 - val_loss: 0.3162 - val_acc: 0.8600\n",
      "Epoch 148/300\n",
      "1500/1500 [==============================] - 5s - loss: 0.1797 - acc: 0.9233 - val_loss: 0.2263 - val_acc: 0.9000\n",
      "Epoch 149/300\n",
      "1500/1500 [==============================] - 5s - loss: 0.1238 - acc: 0.9493 - val_loss: 0.2996 - val_acc: 0.8800\n",
      "Epoch 150/300\n",
      "1500/1500 [==============================] - 5s - loss: 0.1636 - acc: 0.9280 - val_loss: 0.2410 - val_acc: 0.9100\n",
      "Epoch 151/300\n",
      "1500/1500 [==============================] - 5s - loss: 0.1180 - acc: 0.9547 - val_loss: 0.2650 - val_acc: 0.8900\n",
      "Epoch 152/300\n",
      "1500/1500 [==============================] - 5s - loss: 0.1261 - acc: 0.9513 - val_loss: 0.2397 - val_acc: 0.9000\n",
      "Epoch 153/300\n",
      "1500/1500 [==============================] - 5s - loss: 0.1378 - acc: 0.9387 - val_loss: 0.2740 - val_acc: 0.8850\n",
      "Epoch 154/300\n",
      "1500/1500 [==============================] - 5s - loss: 0.1075 - acc: 0.9573 - val_loss: 0.3299 - val_acc: 0.8750\n",
      "Epoch 155/300\n",
      "1500/1500 [==============================] - 5s - loss: 0.0941 - acc: 0.9653 - val_loss: 0.2319 - val_acc: 0.9100\n",
      "Epoch 156/300\n",
      "1500/1500 [==============================] - 5s - loss: 0.0835 - acc: 0.9713 - val_loss: 0.3412 - val_acc: 0.9000\n",
      "Epoch 157/300\n",
      "1500/1500 [==============================] - 5s - loss: 0.1093 - acc: 0.9493 - val_loss: 0.2726 - val_acc: 0.8750\n",
      "Epoch 158/300\n",
      "1500/1500 [==============================] - 5s - loss: 0.0880 - acc: 0.9540 - val_loss: 0.4553 - val_acc: 0.8450\n",
      "Epoch 159/300\n",
      "1500/1500 [==============================] - 5s - loss: 0.1423 - acc: 0.9420 - val_loss: 0.2466 - val_acc: 0.9100\n",
      "Epoch 160/300\n",
      "1500/1500 [==============================] - 5s - loss: 0.1288 - acc: 0.9513 - val_loss: 1.4523 - val_acc: 0.6250\n",
      "Epoch 161/300\n",
      "1500/1500 [==============================] - 5s - loss: 0.2771 - acc: 0.9160 - val_loss: 0.9058 - val_acc: 0.7000\n",
      "Epoch 162/300\n",
      "1500/1500 [==============================] - 5s - loss: 0.2426 - acc: 0.8967 - val_loss: 0.2774 - val_acc: 0.8700\n",
      "Epoch 163/300\n",
      "1500/1500 [==============================] - 5s - loss: 0.1699 - acc: 0.9287 - val_loss: 0.2529 - val_acc: 0.8850\n",
      "Epoch 164/300\n",
      "1500/1500 [==============================] - 6s - loss: 0.1118 - acc: 0.9540 - val_loss: 0.2843 - val_acc: 0.8800\n",
      "Epoch 165/300\n",
      "1500/1500 [==============================] - 5s - loss: 0.1118 - acc: 0.9547 - val_loss: 0.3796 - val_acc: 0.8450\n",
      "Epoch 166/300\n",
      "1500/1500 [==============================] - 5s - loss: 0.1349 - acc: 0.9447 - val_loss: 0.3257 - val_acc: 0.8400\n",
      "Epoch 167/300\n",
      "1500/1500 [==============================] - 5s - loss: 0.1508 - acc: 0.9413 - val_loss: 0.3159 - val_acc: 0.8500\n",
      "Epoch 168/300\n",
      "1500/1500 [==============================] - 5s - loss: 0.1525 - acc: 0.9327 - val_loss: 0.3965 - val_acc: 0.8450\n",
      "Epoch 169/300\n",
      "1500/1500 [==============================] - 5s - loss: 0.1101 - acc: 0.9500 - val_loss: 0.3692 - val_acc: 0.8800\n",
      "Epoch 170/300\n",
      "1500/1500 [==============================] - 5s - loss: 0.0897 - acc: 0.9667 - val_loss: 0.3503 - val_acc: 0.9050\n",
      "Epoch 171/300\n",
      "1500/1500 [==============================] - 5s - loss: 0.0644 - acc: 0.9760 - val_loss: 0.2759 - val_acc: 0.8950\n",
      "Epoch 172/300\n",
      "1500/1500 [==============================] - 5s - loss: 0.0922 - acc: 0.9613 - val_loss: 0.3271 - val_acc: 0.9000\n",
      "Epoch 173/300\n",
      "1500/1500 [==============================] - 5s - loss: 0.0795 - acc: 0.9680 - val_loss: 0.2918 - val_acc: 0.9000\n",
      "Epoch 174/300\n",
      "1500/1500 [==============================] - 5s - loss: 0.0967 - acc: 0.9593 - val_loss: 0.2906 - val_acc: 0.9100\n",
      "Epoch 175/300\n",
      "1500/1500 [==============================] - 5s - loss: 0.1197 - acc: 0.9553 - val_loss: 0.2963 - val_acc: 0.8850\n",
      "Epoch 176/300\n",
      "1500/1500 [==============================] - 5s - loss: 0.1205 - acc: 0.9493 - val_loss: 0.2480 - val_acc: 0.8950\n",
      "Epoch 177/300\n",
      "1500/1500 [==============================] - 6s - loss: 0.1521 - acc: 0.9413 - val_loss: 0.2976 - val_acc: 0.8650\n",
      "Epoch 178/300\n",
      "1500/1500 [==============================] - 5s - loss: 0.1379 - acc: 0.9420 - val_loss: 0.3417 - val_acc: 0.8650\n",
      "Epoch 179/300\n",
      "1500/1500 [==============================] - 5s - loss: 0.1037 - acc: 0.9580 - val_loss: 0.3281 - val_acc: 0.8750\n",
      "Epoch 180/300\n",
      "1500/1500 [==============================] - 5s - loss: 0.2203 - acc: 0.9240 - val_loss: 0.2488 - val_acc: 0.9100\n",
      "Epoch 181/300\n",
      "1500/1500 [==============================] - 5s - loss: 0.1448 - acc: 0.9380 - val_loss: 0.2289 - val_acc: 0.8850\n",
      "Epoch 182/300\n",
      "1500/1500 [==============================] - 5s - loss: 0.1334 - acc: 0.9413 - val_loss: 0.3820 - val_acc: 0.8400\n",
      "Epoch 183/300\n",
      "1500/1500 [==============================] - 5s - loss: 0.1862 - acc: 0.9207 - val_loss: 0.3917 - val_acc: 0.8350\n",
      "Epoch 184/300\n",
      "1500/1500 [==============================] - 5s - loss: 0.2643 - acc: 0.9040 - val_loss: 0.3426 - val_acc: 0.8500\n",
      "Epoch 185/300\n",
      "1500/1500 [==============================] - 5s - loss: 0.1788 - acc: 0.9193 - val_loss: 0.2662 - val_acc: 0.9000\n",
      "Epoch 186/300\n",
      "1500/1500 [==============================] - 5s - loss: 0.1444 - acc: 0.9353 - val_loss: 0.3043 - val_acc: 0.8700\n",
      "Epoch 187/300\n",
      "1500/1500 [==============================] - 5s - loss: 0.1596 - acc: 0.9347 - val_loss: 0.2859 - val_acc: 0.8900\n",
      "Epoch 188/300\n",
      "1500/1500 [==============================] - 5s - loss: 0.1083 - acc: 0.9607 - val_loss: 0.2690 - val_acc: 0.9000\n",
      "Epoch 189/300\n",
      "1500/1500 [==============================] - 5s - loss: 0.1704 - acc: 0.9267 - val_loss: 0.2356 - val_acc: 0.9050\n",
      "Epoch 190/300\n",
      "1500/1500 [==============================] - 5s - loss: 0.1780 - acc: 0.9240 - val_loss: 0.3518 - val_acc: 0.8550\n",
      "Epoch 191/300\n",
      "1500/1500 [==============================] - 5s - loss: 0.1521 - acc: 0.9353 - val_loss: 0.3244 - val_acc: 0.9050\n",
      "Epoch 192/300\n",
      "1500/1500 [==============================] - 5s - loss: 0.1384 - acc: 0.9420 - val_loss: 0.3139 - val_acc: 0.8850\n",
      "Epoch 193/300\n",
      "1500/1500 [==============================] - 5s - loss: 0.1434 - acc: 0.9407 - val_loss: 0.2805 - val_acc: 0.8800\n",
      "Epoch 194/300\n",
      "1500/1500 [==============================] - 5s - loss: 0.1134 - acc: 0.9520 - val_loss: 0.2630 - val_acc: 0.9100\n",
      "Epoch 195/300\n",
      "1500/1500 [==============================] - 5s - loss: 0.1034 - acc: 0.9547 - val_loss: 0.4191 - val_acc: 0.8450\n",
      "Epoch 196/300\n",
      "1500/1500 [==============================] - 5s - loss: 0.2435 - acc: 0.9020 - val_loss: 0.3140 - val_acc: 0.8450\n",
      "Epoch 197/300\n",
      "1500/1500 [==============================] - 5s - loss: 0.1368 - acc: 0.9433 - val_loss: 0.2491 - val_acc: 0.8900\n",
      "Epoch 198/300\n",
      "1500/1500 [==============================] - 5s - loss: 0.0914 - acc: 0.9660 - val_loss: 0.3845 - val_acc: 0.8800\n",
      "Epoch 199/300\n",
      "1500/1500 [==============================] - 5s - loss: 0.0869 - acc: 0.9680 - val_loss: 0.3003 - val_acc: 0.8950\n",
      "Epoch 200/300\n",
      "1500/1500 [==============================] - 5s - loss: 0.1023 - acc: 0.9580 - val_loss: 0.3235 - val_acc: 0.8850\n",
      "Epoch 201/300\n",
      "1500/1500 [==============================] - 5s - loss: 0.0990 - acc: 0.9580 - val_loss: 0.3704 - val_acc: 0.8850\n",
      "Epoch 202/300\n",
      "1500/1500 [==============================] - 5s - loss: 0.1333 - acc: 0.9487 - val_loss: 0.3163 - val_acc: 0.9000\n",
      "Epoch 203/300\n",
      "1500/1500 [==============================] - 5s - loss: 0.1425 - acc: 0.9380 - val_loss: 0.2945 - val_acc: 0.8750\n",
      "Epoch 204/300\n",
      "1500/1500 [==============================] - 5s - loss: 0.0916 - acc: 0.9607 - val_loss: 0.3762 - val_acc: 0.9050\n",
      "Epoch 205/300\n",
      "1500/1500 [==============================] - 5s - loss: 0.1258 - acc: 0.9447 - val_loss: 0.4044 - val_acc: 0.8550\n",
      "Epoch 206/300\n",
      "1500/1500 [==============================] - 5s - loss: 0.0893 - acc: 0.9607 - val_loss: 0.3642 - val_acc: 0.8800\n",
      "Epoch 207/300\n",
      "1500/1500 [==============================] - 5s - loss: 0.0874 - acc: 0.9620 - val_loss: 0.3017 - val_acc: 0.9150\n",
      "Epoch 208/300\n",
      "1500/1500 [==============================] - 5s - loss: 0.1997 - acc: 0.9273 - val_loss: 0.2932 - val_acc: 0.8750\n",
      "Epoch 209/300\n",
      "1500/1500 [==============================] - 5s - loss: 0.1311 - acc: 0.9427 - val_loss: 0.3080 - val_acc: 0.8650\n",
      "Epoch 210/300\n",
      "1500/1500 [==============================] - 5s - loss: 0.1073 - acc: 0.9513 - val_loss: 0.3332 - val_acc: 0.9100\n",
      "Epoch 211/300\n",
      "1500/1500 [==============================] - 5s - loss: 0.1906 - acc: 0.9147 - val_loss: 0.2685 - val_acc: 0.8950\n",
      "Epoch 212/300\n",
      "1500/1500 [==============================] - 5s - loss: 0.1707 - acc: 0.9307 - val_loss: 0.3601 - val_acc: 0.8400\n",
      "Epoch 213/300\n",
      "1500/1500 [==============================] - 5s - loss: 0.1270 - acc: 0.9507 - val_loss: 0.2940 - val_acc: 0.9050\n",
      "Epoch 214/300\n",
      "1500/1500 [==============================] - 5s - loss: 0.0943 - acc: 0.9633 - val_loss: 0.2283 - val_acc: 0.9000\n",
      "Epoch 215/300\n",
      "1500/1500 [==============================] - 5s - loss: 0.1038 - acc: 0.9587 - val_loss: 0.4321 - val_acc: 0.8500\n",
      "Epoch 216/300\n",
      "1500/1500 [==============================] - 5s - loss: 0.2111 - acc: 0.9167 - val_loss: 0.7060 - val_acc: 0.6850\n",
      "Epoch 217/300\n",
      "1500/1500 [==============================] - 5s - loss: 0.1900 - acc: 0.9113 - val_loss: 0.2857 - val_acc: 0.8700\n",
      "Epoch 218/300\n",
      "1500/1500 [==============================] - 5s - loss: 0.1452 - acc: 0.9407 - val_loss: 0.2909 - val_acc: 0.8800\n",
      "Epoch 219/300\n",
      "1500/1500 [==============================] - 5s - loss: 0.1461 - acc: 0.9347 - val_loss: 0.3354 - val_acc: 0.8850\n",
      "Epoch 220/300\n",
      "1500/1500 [==============================] - 5s - loss: 0.1173 - acc: 0.9467 - val_loss: 0.3022 - val_acc: 0.8950\n",
      "Epoch 221/300\n",
      "1500/1500 [==============================] - 5s - loss: 0.1324 - acc: 0.9380 - val_loss: 0.2682 - val_acc: 0.9050\n",
      "Epoch 222/300\n",
      "1500/1500 [==============================] - 5s - loss: 0.1463 - acc: 0.9360 - val_loss: 0.7844 - val_acc: 0.7950\n",
      "Epoch 223/300\n",
      "1500/1500 [==============================] - 5s - loss: 0.2132 - acc: 0.9147 - val_loss: 0.2669 - val_acc: 0.8850\n",
      "Epoch 224/300\n",
      "1500/1500 [==============================] - 5s - loss: 0.2052 - acc: 0.9107 - val_loss: 0.2734 - val_acc: 0.8700\n",
      "Epoch 225/300\n",
      "1500/1500 [==============================] - 5s - loss: 0.1973 - acc: 0.9093 - val_loss: 0.2714 - val_acc: 0.8850\n",
      "Epoch 226/300\n",
      "1500/1500 [==============================] - 5s - loss: 0.2118 - acc: 0.9113 - val_loss: 0.2319 - val_acc: 0.8900\n",
      "Epoch 227/300\n",
      "1500/1500 [==============================] - 5s - loss: 0.1625 - acc: 0.9253 - val_loss: 0.3142 - val_acc: 0.8750\n",
      "Epoch 228/300\n",
      "1500/1500 [==============================] - 5s - loss: 0.1825 - acc: 0.9147 - val_loss: 0.3975 - val_acc: 0.8500\n",
      "Epoch 229/300\n",
      "1500/1500 [==============================] - 5s - loss: 0.1978 - acc: 0.9113 - val_loss: 0.2921 - val_acc: 0.8800\n",
      "Epoch 230/300\n",
      "1500/1500 [==============================] - 5s - loss: 0.1842 - acc: 0.9280 - val_loss: 0.2621 - val_acc: 0.8950\n",
      "Epoch 231/300\n",
      "1500/1500 [==============================] - 5s - loss: 0.1613 - acc: 0.9307 - val_loss: 0.2286 - val_acc: 0.9000\n",
      "Epoch 232/300\n",
      "1500/1500 [==============================] - 5s - loss: 0.2026 - acc: 0.9127 - val_loss: 0.2553 - val_acc: 0.9000\n",
      "Epoch 233/300\n",
      "1500/1500 [==============================] - 5s - loss: 0.1766 - acc: 0.9160 - val_loss: 0.2608 - val_acc: 0.9000\n",
      "Epoch 234/300\n",
      "1500/1500 [==============================] - 5s - loss: 0.1564 - acc: 0.9280 - val_loss: 0.3078 - val_acc: 0.8750\n",
      "Epoch 235/300\n",
      "1500/1500 [==============================] - 5s - loss: 0.1253 - acc: 0.9440 - val_loss: 0.3065 - val_acc: 0.9000\n",
      "Epoch 236/300\n",
      "1500/1500 [==============================] - 5s - loss: 0.1332 - acc: 0.9420 - val_loss: 0.3279 - val_acc: 0.8900\n",
      "Epoch 237/300\n",
      "1500/1500 [==============================] - 5s - loss: 0.1249 - acc: 0.9433 - val_loss: 0.3330 - val_acc: 0.8950\n",
      "Epoch 238/300\n",
      "1500/1500 [==============================] - 5s - loss: 0.2168 - acc: 0.9167 - val_loss: 0.3116 - val_acc: 0.8750\n",
      "Epoch 239/300\n",
      "1500/1500 [==============================] - 5s - loss: 0.1742 - acc: 0.9213 - val_loss: 0.2435 - val_acc: 0.9000\n",
      "Epoch 240/300\n",
      "1500/1500 [==============================] - 5s - loss: 0.1345 - acc: 0.9420 - val_loss: 0.2905 - val_acc: 0.8700\n",
      "Epoch 241/300\n",
      "1500/1500 [==============================] - 5s - loss: 0.1026 - acc: 0.9600 - val_loss: 0.2991 - val_acc: 0.8600\n",
      "Epoch 242/300\n",
      "1500/1500 [==============================] - 5s - loss: 0.1596 - acc: 0.9293 - val_loss: 0.4244 - val_acc: 0.8450\n",
      "Epoch 243/300\n",
      "1500/1500 [==============================] - 5s - loss: 0.1252 - acc: 0.9453 - val_loss: 0.3632 - val_acc: 0.8600\n",
      "Epoch 244/300\n",
      "1500/1500 [==============================] - 5s - loss: 0.2032 - acc: 0.9160 - val_loss: 0.2407 - val_acc: 0.9000\n",
      "Epoch 245/300\n",
      "1500/1500 [==============================] - 5s - loss: 0.2818 - acc: 0.8813 - val_loss: 0.2697 - val_acc: 0.8600\n",
      "Epoch 246/300\n",
      "1500/1500 [==============================] - 5s - loss: 0.1716 - acc: 0.9253 - val_loss: 0.2581 - val_acc: 0.8850\n",
      "Epoch 247/300\n",
      "1500/1500 [==============================] - 5s - loss: 0.3431 - acc: 0.8407 - val_loss: 0.2572 - val_acc: 0.8850\n",
      "Epoch 248/300\n",
      "1500/1500 [==============================] - 5s - loss: 0.2837 - acc: 0.8620 - val_loss: 0.3175 - val_acc: 0.8350\n",
      "Epoch 249/300\n",
      "1500/1500 [==============================] - 5s - loss: 0.2366 - acc: 0.8700 - val_loss: 0.2551 - val_acc: 0.8800\n",
      "Epoch 250/300\n",
      "1500/1500 [==============================] - 5s - loss: 0.1550 - acc: 0.9360 - val_loss: 0.3020 - val_acc: 0.8700\n",
      "Epoch 251/300\n",
      "1500/1500 [==============================] - 5s - loss: 0.1196 - acc: 0.9513 - val_loss: 0.3233 - val_acc: 0.9100\n",
      "Epoch 252/300\n",
      "1500/1500 [==============================] - 5s - loss: 0.1683 - acc: 0.9307 - val_loss: 0.2380 - val_acc: 0.9100\n",
      "Epoch 253/300\n",
      "1500/1500 [==============================] - 5s - loss: 0.1240 - acc: 0.9480 - val_loss: 0.2509 - val_acc: 0.8850\n",
      "Epoch 254/300\n",
      "1500/1500 [==============================] - 5s - loss: 0.1185 - acc: 0.9507 - val_loss: 0.2343 - val_acc: 0.9000\n",
      "Epoch 255/300\n",
      "1500/1500 [==============================] - 5s - loss: 0.1538 - acc: 0.9320 - val_loss: 0.2958 - val_acc: 0.8750\n",
      "Epoch 256/300\n",
      "1500/1500 [==============================] - 5s - loss: 0.1074 - acc: 0.9513 - val_loss: 0.2649 - val_acc: 0.8950\n",
      "Epoch 257/300\n"
     ]
    },
    {
     "name": "stdout",
     "output_type": "stream",
     "text": [
      "1500/1500 [==============================] - 5s - loss: 0.1055 - acc: 0.9567 - val_loss: 0.3093 - val_acc: 0.9100\n",
      "Epoch 258/300\n",
      "1500/1500 [==============================] - 5s - loss: 0.1154 - acc: 0.9500 - val_loss: 0.3212 - val_acc: 0.9100\n",
      "Epoch 259/300\n",
      "1500/1500 [==============================] - 5s - loss: 0.1257 - acc: 0.9353 - val_loss: 0.3143 - val_acc: 0.8800\n",
      "Epoch 260/300\n",
      "1500/1500 [==============================] - 5s - loss: 0.1719 - acc: 0.9220 - val_loss: 0.2467 - val_acc: 0.9050\n",
      "Epoch 261/300\n",
      "1500/1500 [==============================] - 5s - loss: 0.1778 - acc: 0.9160 - val_loss: 0.2502 - val_acc: 0.9050\n",
      "Epoch 262/300\n",
      "1500/1500 [==============================] - 5s - loss: 0.1228 - acc: 0.9447 - val_loss: 0.2414 - val_acc: 0.9150\n",
      "Epoch 263/300\n",
      "1500/1500 [==============================] - 5s - loss: 0.1192 - acc: 0.9467 - val_loss: 0.2646 - val_acc: 0.9000\n",
      "Epoch 264/300\n",
      "1500/1500 [==============================] - 5s - loss: 0.1287 - acc: 0.9427 - val_loss: 0.2377 - val_acc: 0.9000\n",
      "Epoch 265/300\n",
      "1500/1500 [==============================] - 5s - loss: 0.2111 - acc: 0.9233 - val_loss: 0.2746 - val_acc: 0.9000\n",
      "Epoch 266/300\n",
      "1500/1500 [==============================] - 5s - loss: 0.1581 - acc: 0.9320 - val_loss: 0.2998 - val_acc: 0.9050\n",
      "Epoch 267/300\n",
      "1500/1500 [==============================] - 5s - loss: 0.1614 - acc: 0.9240 - val_loss: 0.2575 - val_acc: 0.9100\n",
      "Epoch 268/300\n",
      "1500/1500 [==============================] - 5s - loss: 0.1508 - acc: 0.9433 - val_loss: 0.2607 - val_acc: 0.8900\n",
      "Epoch 269/300\n",
      "1500/1500 [==============================] - 5s - loss: 0.1355 - acc: 0.9373 - val_loss: 0.2761 - val_acc: 0.9050\n",
      "Epoch 270/300\n",
      "1500/1500 [==============================] - 5s - loss: 0.0947 - acc: 0.9613 - val_loss: 0.4004 - val_acc: 0.8750\n",
      "Epoch 271/300\n",
      "1500/1500 [==============================] - 5s - loss: 0.1140 - acc: 0.9507 - val_loss: 0.2654 - val_acc: 0.9000\n",
      "Epoch 272/300\n",
      "1500/1500 [==============================] - 5s - loss: 0.1029 - acc: 0.9580 - val_loss: 0.3798 - val_acc: 0.8900\n",
      "Epoch 273/300\n",
      "1500/1500 [==============================] - 5s - loss: 0.1051 - acc: 0.9640 - val_loss: 0.2747 - val_acc: 0.9100\n",
      "Epoch 274/300\n",
      "1500/1500 [==============================] - 5s - loss: 0.0787 - acc: 0.9713 - val_loss: 0.3007 - val_acc: 0.8900\n",
      "Epoch 275/300\n",
      "1500/1500 [==============================] - 5s - loss: 0.1418 - acc: 0.9440 - val_loss: 0.2620 - val_acc: 0.8950\n",
      "Epoch 276/300\n",
      "1500/1500 [==============================] - 5s - loss: 0.0654 - acc: 0.9713 - val_loss: 0.3552 - val_acc: 0.9000\n",
      "Epoch 277/300\n",
      "1500/1500 [==============================] - 5s - loss: 0.2190 - acc: 0.9273 - val_loss: 0.3994 - val_acc: 0.8500\n",
      "Epoch 278/300\n",
      "1500/1500 [==============================] - 5s - loss: 0.1020 - acc: 0.9580 - val_loss: 0.2704 - val_acc: 0.8950\n",
      "Epoch 279/300\n",
      "1500/1500 [==============================] - 5s - loss: 0.0646 - acc: 0.9760 - val_loss: 0.3726 - val_acc: 0.9050\n",
      "Epoch 280/300\n",
      "1500/1500 [==============================] - 5s - loss: 0.1497 - acc: 0.9440 - val_loss: 0.2214 - val_acc: 0.8850\n",
      "Epoch 281/300\n",
      "1500/1500 [==============================] - 5s - loss: 0.1650 - acc: 0.9260 - val_loss: 0.2900 - val_acc: 0.9000\n",
      "Epoch 282/300\n",
      "1500/1500 [==============================] - 5s - loss: 0.1085 - acc: 0.9567 - val_loss: 0.2490 - val_acc: 0.9000\n",
      "Epoch 283/300\n",
      "1500/1500 [==============================] - 5s - loss: 0.1214 - acc: 0.9427 - val_loss: 0.3986 - val_acc: 0.8600\n",
      "Epoch 284/300\n",
      "1500/1500 [==============================] - 6s - loss: 0.1125 - acc: 0.9507 - val_loss: 0.2781 - val_acc: 0.8800\n",
      "Epoch 285/300\n",
      "1500/1500 [==============================] - 5s - loss: 0.1035 - acc: 0.9547 - val_loss: 0.2977 - val_acc: 0.8950\n",
      "Epoch 286/300\n",
      "1500/1500 [==============================] - 5s - loss: 0.0784 - acc: 0.9660 - val_loss: 0.3804 - val_acc: 0.8450\n",
      "Epoch 287/300\n",
      "1500/1500 [==============================] - 5s - loss: 0.0916 - acc: 0.9580 - val_loss: 0.2680 - val_acc: 0.9000\n",
      "Epoch 288/300\n",
      "1500/1500 [==============================] - 5s - loss: 0.0660 - acc: 0.9700 - val_loss: 0.3561 - val_acc: 0.8900\n",
      "Epoch 289/300\n",
      "1500/1500 [==============================] - 5s - loss: 0.0633 - acc: 0.9767 - val_loss: 0.3796 - val_acc: 0.9000\n",
      "Epoch 290/300\n",
      "1500/1500 [==============================] - 5s - loss: 0.0562 - acc: 0.9767 - val_loss: 0.3405 - val_acc: 0.9050\n",
      "Epoch 291/300\n",
      "1500/1500 [==============================] - 5s - loss: 0.0760 - acc: 0.9700 - val_loss: 0.3300 - val_acc: 0.9050\n",
      "Epoch 292/300\n",
      "1500/1500 [==============================] - 5s - loss: 0.0704 - acc: 0.9700 - val_loss: 0.3675 - val_acc: 0.8800\n",
      "Epoch 293/300\n",
      "1500/1500 [==============================] - 5s - loss: 0.1288 - acc: 0.9487 - val_loss: 0.3731 - val_acc: 0.9050\n",
      "Epoch 294/300\n",
      "1500/1500 [==============================] - 5s - loss: 0.0707 - acc: 0.9753 - val_loss: 0.3727 - val_acc: 0.9050\n",
      "Epoch 295/300\n",
      "1500/1500 [==============================] - 5s - loss: 0.0842 - acc: 0.9660 - val_loss: 0.3386 - val_acc: 0.9000\n",
      "Epoch 296/300\n",
      "1500/1500 [==============================] - 5s - loss: 0.0674 - acc: 0.9700 - val_loss: 0.3748 - val_acc: 0.8900\n",
      "Epoch 297/300\n",
      "1500/1500 [==============================] - 5s - loss: 0.0705 - acc: 0.9740 - val_loss: 0.3967 - val_acc: 0.9000\n",
      "Epoch 298/300\n",
      "1500/1500 [==============================] - 5s - loss: 0.0689 - acc: 0.9693 - val_loss: 0.3582 - val_acc: 0.9000\n",
      "Epoch 299/300\n",
      "1500/1500 [==============================] - 5s - loss: 0.0679 - acc: 0.9707 - val_loss: 0.3856 - val_acc: 0.8950\n",
      "Epoch 300/300\n",
      "1500/1500 [==============================] - 5s - loss: 0.0542 - acc: 0.9720 - val_loss: 0.3631 - val_acc: 0.9050\n"
     ]
    }
   ],
   "source": [
    "top_model = Sequential(name=\"fully-connected\")\n",
    "top_model.add(Flatten(input_shape=base_model.output_shape[1:], name=\"flatten\"))\n",
    "top_model.add(Dense(256, activation='relu', name=\"fc1\"))\n",
    "top_model.add(Dropout(0.5))\n",
    "top_model.add(Dense(1, activation='sigmoid', name=\"predictions\"))\n",
    "\n",
    "# top_model.compile(loss='binary_crossentropy', optimizer='rmsprop', metrics=['accuracy'])\n",
    "top_model.compile(loss='binary_crossentropy', optimizer=optimizers.SGD(lr = 0.01), metrics=['accuracy'])\n",
    "\n",
    "history = top_model.fit(train_data, train_labels,\n",
    "          epochs=300,\n",
    "          batch_size=batch_size,\n",
    "          validation_data=(validation_data, validation_labels))"
   ]
  },
  {
   "cell_type": "code",
   "execution_count": 84,
   "metadata": {
    "collapsed": true
   },
   "outputs": [],
   "source": [
    "top_model.save_weights('bottleneck_weights.h5')"
   ]
  },
  {
   "cell_type": "code",
   "execution_count": 53,
   "metadata": {
    "collapsed": true
   },
   "outputs": [],
   "source": [
    "np.save('history_dropoutdot5_lrdot0001_epoch300.npy', history.history)"
   ]
  },
  {
   "cell_type": "markdown",
   "metadata": {},
   "source": [
    "# Show the trainning history"
   ]
  },
  {
   "cell_type": "code",
   "execution_count": 14,
   "metadata": {},
   "outputs": [
    {
     "data": {
      "image/png": "[encoded data removed]",
      "text/plain": [
       "<matplotlib.figure.Figure at 0x7f521d77de48>"
      ]
     },
     "metadata": {},
     "output_type": "display_data"
    }
   ],
   "source": [
    "import matplotlib.pyplot as plt\n",
    "# print(history.history.keys())\n",
    "# summarize history for accuracy\n",
    "plt.plot(history.history['acc'])\n",
    "plt.plot(history.history['val_acc'])\n",
    "plt.title('model accuracy')\n",
    "plt.ylabel('accuracy')\n",
    "plt.xlabel('epoch')\n",
    "plt.legend(['train', 'validation'], loc='upper left')\n",
    "plt.show()"
   ]
  },
  {
   "cell_type": "code",
   "execution_count": 15,
   "metadata": {},
   "outputs": [
    {
     "data": {
      "image/png": "[encoded data removed]",
      "text/plain": [
       "<matplotlib.figure.Figure at 0x7f521d8355f8>"
      ]
     },
     "metadata": {},
     "output_type": "display_data"
    }
   ],
   "source": [
    "# summarize history for loss\n",
    "plt.plot(history.history['loss'])\n",
    "plt.plot(history.history['val_loss'])\n",
    "plt.title('model loss')\n",
    "plt.ylabel('loss')\n",
    "plt.xlabel('epoch')\n",
    "plt.legend(['train', 'validation'], loc='upper left')\n",
    "plt.show()"
   ]
  },
  {
   "cell_type": "markdown",
   "metadata": {},
   "source": [
    "# Connect the pre-trained VGG16 convolutional blocks to our trained classifier and evaluate the model using the test dateset"
   ]
  },
  {
   "cell_type": "code",
   "execution_count": 4,
   "metadata": {
    "collapsed": true
   },
   "outputs": [],
   "source": [
    "from keras.models import Sequential, Model\n",
    "from keras.layers import Dropout, Flatten, Dense\n",
    "from keras import optimizers\n",
    "\n",
    "top_model = Sequential(name=\"fully-connected\")\n",
    "top_model.add(Flatten(input_shape=base_model.output_shape[1:], name=\"flatten\"))\n",
    "top_model.add(Dense(256, activation='relu', name=\"fc1\"))\n",
    "top_model.add(Dropout(0.5))\n",
    "top_model.add(Dense(1, activation='sigmoid', name=\"predictions\"))\n",
    "\n",
    "top_model.load_weights('bottleneck_weights.h5')\n",
    "\n",
    "model = Model(inputs=base_model.input, outputs=top_model(base_model.output))\n",
    "\n",
    "model.compile(loss='binary_crossentropy', optimizer=optimizers.SGD(lr = 0.01), metrics=['accuracy'])"
   ]
  },
  {
   "cell_type": "code",
   "execution_count": 5,
   "metadata": {},
   "outputs": [
    {
     "name": "stdout",
     "output_type": "stream",
     "text": [
      "Found 128 images belonging to 2 classes.\n"
     ]
    }
   ],
   "source": [
    "from keras.preprocessing.image import ImageDataGenerator\n",
    "\n",
    "batch_size = 16\n",
    "\n",
    "test_datagen = ImageDataGenerator(rescale=1./255)\n",
    "\n",
    "test_generator = test_datagen.flow_from_directory(\n",
    "        'data/test',\n",
    "        target_size=(224, 224),\n",
    "        batch_size=batch_size,\n",
    "        class_mode='binary')"
   ]
  },
  {
   "cell_type": "code",
   "execution_count": 6,
   "metadata": {},
   "outputs": [
    {
     "data": {
      "text/plain": [
       "[0.44558364525437355, 0.8125]"
      ]
     },
     "execution_count": 6,
     "metadata": {},
     "output_type": "execute_result"
    }
   ],
   "source": [
    "model.evaluate_generator(test_generator, steps=int(np.ceil(128 / batch_size)), max_queue_size=10, workers=1, use_multiprocessing=False)"
   ]
  },
  {
   "cell_type": "code",
   "execution_count": null,
   "metadata": {
    "collapsed": true
   },
   "outputs": [],
   "source": []
  }
 ],
 "metadata": {
  "kernelspec": {
   "display_name": "Python 3",
   "language": "python",
   "name": "python3"
  },
  "language_info": {
   "codemirror_mode": {
    "name": "ipython",
    "version": 3
   },
   "file_extension": ".py",
   "mimetype": "text/x-python",
   "name": "python",
   "nbconvert_exporter": "python",
   "pygments_lexer": "ipython3",
   "version": "3.5.3"
  }
 },
 "nbformat": 4,
 "nbformat_minor": 2
}
