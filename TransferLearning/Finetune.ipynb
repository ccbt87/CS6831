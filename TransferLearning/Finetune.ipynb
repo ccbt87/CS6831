{
 "cells": [
  {
   "cell_type": "markdown",
   "metadata": {
    "collapsed": true
   },
   "source": [
    "![alt text](markdown\\vgg16_modified.png)"
   ]
  },
  {
   "cell_type": "markdown",
   "metadata": {},
   "source": [
    "# Connect the pre-trained VGG16 convolutional blocks to our trained classifier, freeze the first few blocks"
   ]
  },
  {
   "cell_type": "code",
   "execution_count": 7,
   "metadata": {
    "collapsed": true
   },
   "outputs": [],
   "source": [
    "import numpy as np\n",
    "from keras.applications.vgg16 import VGG16\n",
    "base_model = VGG16(weights='imagenet', include_top=False, input_shape=(224,224,3))"
   ]
  },
  {
   "cell_type": "code",
   "execution_count": 2,
   "metadata": {
    "collapsed": true
   },
   "outputs": [],
   "source": [
    "from keras.models import Sequential, Model\n",
    "from keras.layers import Dropout, Flatten, Dense\n",
    "from keras import optimizers\n",
    "\n",
    "top_model = Sequential(name=\"fully-connected\")\n",
    "top_model.add(Flatten(input_shape=base_model.output_shape[1:], name=\"flatten\"))\n",
    "top_model.add(Dense(256, activation='relu', name=\"fc1\"))\n",
    "top_model.add(Dropout(0.573))\n",
    "top_model.add(Dense(1, activation='sigmoid', name=\"predictions\"))\n",
    "\n",
    "top_model.load_weights('bottleneck_weights.h5')\n",
    "\n",
    "# add the model on top of the convolutional base\n",
    "# base_model.add(top_model)\n",
    "\n",
    "model = Model(inputs=base_model.input, outputs=top_model(base_model.output))\n",
    "\n",
    "# for layer in model.layers[:25]:\n",
    "for layer in model.layers[:15]:\n",
    "    layer.trainable = False\n",
    "\n",
    "# use a low learning rate\n",
    "model.compile(loss='binary_crossentropy', optimizer=optimizers.SGD(lr=1e-5, momentum=0.9, nesterov=True), metrics=['accuracy'])"
   ]
  },
  {
   "cell_type": "markdown",
   "metadata": {},
   "source": [
    "Error we got:\n",
    "![alt text](markdown\\error4.png)\n",
    "Cause: probably due to the version of Keras, the VGG16 in currect Keras version is Model type, and the classifier we build is Sequential type\n",
    "<br>\n",
    "Solution: use the Keras Model method to connect them\n",
    "<br>\n",
    "By using this solution, the model.summary() won't display the layers in the  Sequential model:"
   ]
  },
  {
   "cell_type": "code",
   "execution_count": 3,
   "metadata": {},
   "outputs": [
    {
     "name": "stdout",
     "output_type": "stream",
     "text": [
      "_________________________________________________________________\n",
      "Layer (type)                 Output Shape              Param #   \n",
      "=================================================================\n",
      "input_1 (InputLayer)         (None, 224, 224, 3)       0         \n",
      "_________________________________________________________________\n",
      "block1_conv1 (Conv2D)        (None, 224, 224, 64)      1792      \n",
      "_________________________________________________________________\n",
      "block1_conv2 (Conv2D)        (None, 224, 224, 64)      36928     \n",
      "_________________________________________________________________\n",
      "block1_pool (MaxPooling2D)   (None, 112, 112, 64)      0         \n",
      "_________________________________________________________________\n",
      "block2_conv1 (Conv2D)        (None, 112, 112, 128)     73856     \n",
      "_________________________________________________________________\n",
      "block2_conv2 (Conv2D)        (None, 112, 112, 128)     147584    \n",
      "_________________________________________________________________\n",
      "block2_pool (MaxPooling2D)   (None, 56, 56, 128)       0         \n",
      "_________________________________________________________________\n",
      "block3_conv1 (Conv2D)        (None, 56, 56, 256)       295168    \n",
      "_________________________________________________________________\n",
      "block3_conv2 (Conv2D)        (None, 56, 56, 256)       590080    \n",
      "_________________________________________________________________\n",
      "block3_conv3 (Conv2D)        (None, 56, 56, 256)       590080    \n",
      "_________________________________________________________________\n",
      "block3_pool (MaxPooling2D)   (None, 28, 28, 256)       0         \n",
      "_________________________________________________________________\n",
      "block4_conv1 (Conv2D)        (None, 28, 28, 512)       1180160   \n",
      "_________________________________________________________________\n",
      "block4_conv2 (Conv2D)        (None, 28, 28, 512)       2359808   \n",
      "_________________________________________________________________\n",
      "block4_conv3 (Conv2D)        (None, 28, 28, 512)       2359808   \n",
      "_________________________________________________________________\n",
      "block4_pool (MaxPooling2D)   (None, 14, 14, 512)       0         \n",
      "_________________________________________________________________\n",
      "block5_conv1 (Conv2D)        (None, 14, 14, 512)       2359808   \n",
      "_________________________________________________________________\n",
      "block5_conv2 (Conv2D)        (None, 14, 14, 512)       2359808   \n",
      "_________________________________________________________________\n",
      "block5_conv3 (Conv2D)        (None, 14, 14, 512)       2359808   \n",
      "_________________________________________________________________\n",
      "block5_pool (MaxPooling2D)   (None, 7, 7, 512)         0         \n",
      "_________________________________________________________________\n",
      "fully-connected (Sequential) (None, 1)                 6423041   \n",
      "=================================================================\n",
      "Total params: 21,137,729\n",
      "Trainable params: 13,502,465\n",
      "Non-trainable params: 7,635,264\n",
      "_________________________________________________________________\n"
     ]
    }
   ],
   "source": [
    "model.summary()"
   ]
  },
  {
   "cell_type": "markdown",
   "metadata": {
    "collapsed": true
   },
   "source": [
    "The Keras tutorial freezes 25 layers, but we don't have such many layers\n",
    "<br>\n",
    "Cause: probably due to the version of Keras, the VGG16 in currect Keras version has 22 layers including the top layers\n",
    "[VGG16](https://github.com/fchollet/keras/blob/master/keras/applications/vgg16.py)\n",
    "The old version has 37 layers including the top layers\n",
    "[VGG16](https://gist.github.com/baraldilorenzo/07d7802847aaad0a35d3)\n",
    "<br>\n",
    "The difference is caused by the ZeroPadding layers.\n",
    "<br>\n",
    "Solution: freeze 15 layers"
   ]
  },
  {
   "cell_type": "markdown",
   "metadata": {},
   "source": [
    "# Pre-processing the train and validation datasets"
   ]
  },
  {
   "cell_type": "code",
   "execution_count": 3,
   "metadata": {},
   "outputs": [
    {
     "name": "stdout",
     "output_type": "stream",
     "text": [
      "Found 1500 images belonging to 2 classes.\n",
      "Found 200 images belonging to 2 classes.\n"
     ]
    }
   ],
   "source": [
    "from keras.preprocessing.image import ImageDataGenerator\n",
    "\n",
    "batch_size = 16\n",
    "\n",
    "# prepare data augmentation configuration\n",
    "train_datagen = ImageDataGenerator(\n",
    "        rescale=1./255,\n",
    "        shear_range=0.2,\n",
    "        zoom_range=0.2,\n",
    "        horizontal_flip=True)\n",
    "\n",
    "validation_datagen = ImageDataGenerator(rescale=1./255)\n",
    "\n",
    "train_generator = train_datagen.flow_from_directory(\n",
    "        'data/train',\n",
    "        target_size=(224, 224),\n",
    "        batch_size=batch_size,\n",
    "        class_mode='binary')\n",
    "\n",
    "validation_generator = validation_datagen.flow_from_directory(\n",
    "        'data/validation',\n",
    "        target_size=(224, 224),\n",
    "        batch_size=batch_size,\n",
    "        class_mode='binary')"
   ]
  },
  {
   "cell_type": "markdown",
   "metadata": {},
   "source": [
    "# Fine-tune the model"
   ]
  },
  {
   "cell_type": "code",
   "execution_count": 20,
   "metadata": {},
   "outputs": [
    {
     "name": "stdout",
     "output_type": "stream",
     "text": [
      "Epoch 1/100\n",
      "94/94 [==============================] - 743s - loss: 0.2168 - acc: 0.9153 - val_loss: 0.2414 - val_acc: 0.8850\n",
      "Epoch 2/100\n",
      "94/94 [==============================] - 738s - loss: 0.2220 - acc: 0.9140 - val_loss: 0.2355 - val_acc: 0.8850\n",
      "Epoch 3/100\n",
      "94/94 [==============================] - 738s - loss: 0.2342 - acc: 0.9036 - val_loss: 0.2343 - val_acc: 0.8900\n",
      "Epoch 4/100\n",
      "94/94 [==============================] - 738s - loss: 0.2058 - acc: 0.9169 - val_loss: 0.2416 - val_acc: 0.8800\n",
      "Epoch 5/100\n",
      "94/94 [==============================] - 737s - loss: 0.2278 - acc: 0.9133 - val_loss: 0.2579 - val_acc: 0.8750\n",
      "Epoch 6/100\n",
      "94/94 [==============================] - 736s - loss: 0.1955 - acc: 0.9202 - val_loss: 0.2774 - val_acc: 0.8550\n",
      "Epoch 7/100\n",
      "94/94 [==============================] - 739s - loss: 0.1852 - acc: 0.9300 - val_loss: 0.2336 - val_acc: 0.8950\n",
      "Epoch 8/100\n",
      "94/94 [==============================] - 738s - loss: 0.2226 - acc: 0.9098 - val_loss: 0.2334 - val_acc: 0.8850\n",
      "Epoch 9/100\n",
      "94/94 [==============================] - 737s - loss: 0.2219 - acc: 0.9027 - val_loss: 0.2503 - val_acc: 0.8800\n",
      "Epoch 10/100\n",
      "94/94 [==============================] - 737s - loss: 0.2060 - acc: 0.9169 - val_loss: 0.2460 - val_acc: 0.8800\n",
      "Epoch 11/100\n",
      "94/94 [==============================] - 738s - loss: 0.2073 - acc: 0.9202 - val_loss: 0.2289 - val_acc: 0.9000\n",
      "Epoch 12/100\n",
      "94/94 [==============================] - 735s - loss: 0.1957 - acc: 0.9220 - val_loss: 0.2228 - val_acc: 0.8950\n",
      "Epoch 13/100\n",
      "94/94 [==============================] - 736s - loss: 0.2000 - acc: 0.9215 - val_loss: 0.2833 - val_acc: 0.8550\n",
      "Epoch 14/100\n",
      "94/94 [==============================] - 739s - loss: 0.2160 - acc: 0.9105 - val_loss: 0.2225 - val_acc: 0.9000\n",
      "Epoch 15/100\n",
      "94/94 [==============================] - 738s - loss: 0.2003 - acc: 0.9222 - val_loss: 0.2438 - val_acc: 0.8850\n",
      "Epoch 16/100\n",
      "94/94 [==============================] - 735s - loss: 0.2023 - acc: 0.9122 - val_loss: 0.2450 - val_acc: 0.8750\n",
      "Epoch 17/100\n",
      "94/94 [==============================] - 736s - loss: 0.1946 - acc: 0.9229 - val_loss: 0.2466 - val_acc: 0.8850\n",
      "Epoch 18/100\n",
      "94/94 [==============================] - 735s - loss: 0.1987 - acc: 0.9258 - val_loss: 0.2678 - val_acc: 0.8900\n",
      "Epoch 19/100\n",
      "94/94 [==============================] - 735s - loss: 0.2016 - acc: 0.9196 - val_loss: 0.2582 - val_acc: 0.8850\n",
      "Epoch 20/100\n",
      "94/94 [==============================] - 738s - loss: 0.2007 - acc: 0.9182 - val_loss: 0.2470 - val_acc: 0.8950\n",
      "Epoch 21/100\n",
      "94/94 [==============================] - 738s - loss: 0.2120 - acc: 0.9213 - val_loss: 0.2023 - val_acc: 0.9100\n",
      "Epoch 22/100\n",
      "94/94 [==============================] - 736s - loss: 0.1966 - acc: 0.9215 - val_loss: 0.2818 - val_acc: 0.8700\n",
      "Epoch 23/100\n",
      "94/94 [==============================] - 739s - loss: 0.1922 - acc: 0.9262 - val_loss: 0.2972 - val_acc: 0.8700\n",
      "Epoch 24/100\n",
      "94/94 [==============================] - 737s - loss: 0.1881 - acc: 0.9275 - val_loss: 0.2175 - val_acc: 0.9100\n",
      "Epoch 25/100\n",
      "94/94 [==============================] - 736s - loss: 0.1997 - acc: 0.9222 - val_loss: 0.2277 - val_acc: 0.9050\n",
      "Epoch 26/100\n",
      "94/94 [==============================] - 735s - loss: 0.1887 - acc: 0.9313 - val_loss: 0.2441 - val_acc: 0.8950\n",
      "Epoch 27/100\n",
      "94/94 [==============================] - 736s - loss: 0.1920 - acc: 0.9240 - val_loss: 0.2217 - val_acc: 0.8850\n",
      "Epoch 28/100\n",
      "94/94 [==============================] - 735s - loss: 0.2003 - acc: 0.9213 - val_loss: 0.2157 - val_acc: 0.9050\n",
      "Epoch 29/100\n",
      "94/94 [==============================] - 734s - loss: 0.1807 - acc: 0.9275 - val_loss: 0.2533 - val_acc: 0.8800\n",
      "Epoch 30/100\n",
      "94/94 [==============================] - 736s - loss: 0.1848 - acc: 0.9297 - val_loss: 0.2406 - val_acc: 0.8850\n",
      "Epoch 31/100\n",
      "94/94 [==============================] - 737s - loss: 0.1857 - acc: 0.9240 - val_loss: 0.2287 - val_acc: 0.8950\n",
      "Epoch 32/100\n",
      "94/94 [==============================] - 738s - loss: 0.1979 - acc: 0.9235 - val_loss: 0.1823 - val_acc: 0.9250\n",
      "Epoch 33/100\n",
      "94/94 [==============================] - 737s - loss: 0.1916 - acc: 0.9262 - val_loss: 0.2307 - val_acc: 0.8950\n",
      "Epoch 34/100\n",
      "94/94 [==============================] - 740s - loss: 0.1741 - acc: 0.9302 - val_loss: 0.2427 - val_acc: 0.8950\n",
      "Epoch 35/100\n",
      "94/94 [==============================] - 735s - loss: 0.1855 - acc: 0.9220 - val_loss: 0.2252 - val_acc: 0.8900\n",
      "Epoch 36/100\n",
      "94/94 [==============================] - 735s - loss: 0.1724 - acc: 0.9320 - val_loss: 0.2104 - val_acc: 0.9100\n",
      "Epoch 37/100\n",
      "94/94 [==============================] - 743s - loss: 0.1896 - acc: 0.9233 - val_loss: 0.2141 - val_acc: 0.9050\n",
      "Epoch 38/100\n",
      "94/94 [==============================] - 742s - loss: 0.1727 - acc: 0.9342 - val_loss: 0.2617 - val_acc: 0.8800\n",
      "Epoch 39/100\n",
      "94/94 [==============================] - 742s - loss: 0.1878 - acc: 0.9269 - val_loss: 0.2484 - val_acc: 0.8850\n",
      "Epoch 40/100\n",
      "94/94 [==============================] - 749s - loss: 0.1812 - acc: 0.9293 - val_loss: 0.2453 - val_acc: 0.9000\n",
      "Epoch 41/100\n",
      "94/94 [==============================] - 741s - loss: 0.1717 - acc: 0.9311 - val_loss: 0.2342 - val_acc: 0.8950\n",
      "Epoch 42/100\n",
      "94/94 [==============================] - 743s - loss: 0.1892 - acc: 0.9253 - val_loss: 0.2770 - val_acc: 0.8650\n",
      "Epoch 43/100\n",
      "94/94 [==============================] - 751s - loss: 0.1702 - acc: 0.9366 - val_loss: 0.2781 - val_acc: 0.8700\n",
      "Epoch 44/100\n",
      "94/94 [==============================] - 749s - loss: 0.1819 - acc: 0.9280 - val_loss: 0.1630 - val_acc: 0.9350\n",
      "Epoch 45/100\n",
      "94/94 [==============================] - 777s - loss: 0.1772 - acc: 0.9313 - val_loss: 0.2666 - val_acc: 0.8650\n",
      "Epoch 46/100\n",
      "94/94 [==============================] - 744s - loss: 0.1808 - acc: 0.9313 - val_loss: 0.2319 - val_acc: 0.8950\n",
      "Epoch 47/100\n",
      "94/94 [==============================] - 787s - loss: 0.1987 - acc: 0.9176 - val_loss: 0.2435 - val_acc: 0.8900\n",
      "Epoch 48/100\n",
      "94/94 [==============================] - 753s - loss: 0.1755 - acc: 0.9362 - val_loss: 0.2137 - val_acc: 0.9050\n",
      "Epoch 49/100\n",
      "94/94 [==============================] - 742s - loss: 0.1628 - acc: 0.9417 - val_loss: 0.2668 - val_acc: 0.8800\n",
      "Epoch 50/100\n",
      "94/94 [==============================] - 736s - loss: 0.1890 - acc: 0.9246 - val_loss: 0.2341 - val_acc: 0.9000\n",
      "Epoch 51/100\n",
      "94/94 [==============================] - 735s - loss: 0.1710 - acc: 0.9357 - val_loss: 0.2724 - val_acc: 0.8850\n",
      "Epoch 52/100\n",
      "94/94 [==============================] - 735s - loss: 0.1713 - acc: 0.9375 - val_loss: 0.2134 - val_acc: 0.9100\n",
      "Epoch 53/100\n",
      "94/94 [==============================] - 737s - loss: 0.1663 - acc: 0.9342 - val_loss: 0.2545 - val_acc: 0.8850\n",
      "Epoch 54/100\n",
      "94/94 [==============================] - 736s - loss: 0.1821 - acc: 0.9331 - val_loss: 0.2174 - val_acc: 0.9000\n",
      "Epoch 55/100\n",
      "94/94 [==============================] - 735s - loss: 0.1808 - acc: 0.9282 - val_loss: 0.2483 - val_acc: 0.8800\n",
      "Epoch 56/100\n",
      "94/94 [==============================] - 737s - loss: 0.1633 - acc: 0.9402 - val_loss: 0.1805 - val_acc: 0.9150\n",
      "Epoch 57/100\n",
      "94/94 [==============================] - 738s - loss: 0.1567 - acc: 0.9408 - val_loss: 0.2716 - val_acc: 0.8800\n",
      "Epoch 58/100\n",
      "94/94 [==============================] - 736s - loss: 0.1768 - acc: 0.9282 - val_loss: 0.2442 - val_acc: 0.8950\n",
      "Epoch 59/100\n",
      "94/94 [==============================] - 737s - loss: 0.1737 - acc: 0.9304 - val_loss: 0.2361 - val_acc: 0.8950\n",
      "Epoch 60/100\n",
      "94/94 [==============================] - 738s - loss: 0.1749 - acc: 0.9333 - val_loss: 0.2116 - val_acc: 0.9000\n",
      "Epoch 61/100\n",
      "94/94 [==============================] - 738s - loss: 0.1555 - acc: 0.9364 - val_loss: 0.2494 - val_acc: 0.8800\n",
      "Epoch 62/100\n",
      "94/94 [==============================] - 735s - loss: 0.1655 - acc: 0.9340 - val_loss: 0.2178 - val_acc: 0.9150\n",
      "Epoch 63/100\n",
      "94/94 [==============================] - 736s - loss: 0.1715 - acc: 0.9322 - val_loss: 0.2383 - val_acc: 0.8850\n",
      "Epoch 64/100\n",
      "94/94 [==============================] - 735s - loss: 0.1561 - acc: 0.9377 - val_loss: 0.2481 - val_acc: 0.8950\n",
      "Epoch 65/100\n",
      "94/94 [==============================] - 734s - loss: 0.1627 - acc: 0.9351 - val_loss: 0.2190 - val_acc: 0.8950\n",
      "Epoch 66/100\n",
      "94/94 [==============================] - 735s - loss: 0.1699 - acc: 0.9393 - val_loss: 0.2141 - val_acc: 0.9000\n",
      "Epoch 67/100\n",
      "94/94 [==============================] - 737s - loss: 0.1515 - acc: 0.9382 - val_loss: 0.2312 - val_acc: 0.9000\n",
      "Epoch 68/100\n",
      "94/94 [==============================] - 734s - loss: 0.1809 - acc: 0.9275 - val_loss: 0.2345 - val_acc: 0.8950\n",
      "Epoch 69/100\n",
      "94/94 [==============================] - 736s - loss: 0.1508 - acc: 0.9404 - val_loss: 0.2788 - val_acc: 0.8750\n",
      "Epoch 70/100\n",
      "94/94 [==============================] - 736s - loss: 0.1702 - acc: 0.9306 - val_loss: 0.2673 - val_acc: 0.8850\n",
      "Epoch 71/100\n",
      "94/94 [==============================] - 735s - loss: 0.1569 - acc: 0.9315 - val_loss: 0.2418 - val_acc: 0.8950\n",
      "Epoch 72/100\n",
      "94/94 [==============================] - 735s - loss: 0.1516 - acc: 0.9473 - val_loss: 0.2389 - val_acc: 0.8900\n",
      "Epoch 73/100\n",
      "94/94 [==============================] - 739s - loss: 0.1519 - acc: 0.9488 - val_loss: 0.2680 - val_acc: 0.8750\n",
      "Epoch 74/100\n",
      "94/94 [==============================] - 735s - loss: 0.1597 - acc: 0.9375 - val_loss: 0.2511 - val_acc: 0.9100\n",
      "Epoch 75/100\n",
      "94/94 [==============================] - 738s - loss: 0.1704 - acc: 0.9344 - val_loss: 0.1754 - val_acc: 0.9150\n",
      "Epoch 76/100\n",
      "94/94 [==============================] - 735s - loss: 0.1589 - acc: 0.9353 - val_loss: 0.2477 - val_acc: 0.9050\n",
      "Epoch 77/100\n",
      "94/94 [==============================] - 738s - loss: 0.1515 - acc: 0.9375 - val_loss: 0.2373 - val_acc: 0.8850\n",
      "Epoch 78/100\n",
      "94/94 [==============================] - 734s - loss: 0.1702 - acc: 0.9300 - val_loss: 0.2011 - val_acc: 0.8850\n",
      "Epoch 79/100\n",
      "94/94 [==============================] - 734s - loss: 0.1542 - acc: 0.9422 - val_loss: 0.3075 - val_acc: 0.8450\n",
      "Epoch 80/100\n",
      "94/94 [==============================] - 736s - loss: 0.1418 - acc: 0.9455 - val_loss: 0.2067 - val_acc: 0.9050\n",
      "Epoch 81/100\n",
      "94/94 [==============================] - 735s - loss: 0.1618 - acc: 0.9422 - val_loss: 0.2375 - val_acc: 0.8900\n",
      "Epoch 82/100\n",
      "94/94 [==============================] - 733s - loss: 0.1573 - acc: 0.9428 - val_loss: 0.2351 - val_acc: 0.8950\n",
      "Epoch 83/100\n",
      "94/94 [==============================] - 738s - loss: 0.1568 - acc: 0.9433 - val_loss: 0.2083 - val_acc: 0.9000\n",
      "Epoch 84/100\n",
      "94/94 [==============================] - 734s - loss: 0.1425 - acc: 0.9512 - val_loss: 0.3126 - val_acc: 0.8650\n",
      "Epoch 85/100\n",
      "94/94 [==============================] - 734s - loss: 0.1618 - acc: 0.9368 - val_loss: 0.2349 - val_acc: 0.8900\n",
      "Epoch 86/100\n",
      "94/94 [==============================] - 734s - loss: 0.1444 - acc: 0.9408 - val_loss: 0.2119 - val_acc: 0.9000\n",
      "Epoch 87/100\n",
      "94/94 [==============================] - 733s - loss: 0.1508 - acc: 0.9424 - val_loss: 0.1825 - val_acc: 0.9200\n",
      "Epoch 88/100\n",
      "94/94 [==============================] - 733s - loss: 0.1362 - acc: 0.9475 - val_loss: 0.2510 - val_acc: 0.8900\n",
      "Epoch 89/100\n",
      "94/94 [==============================] - 734s - loss: 0.1533 - acc: 0.9364 - val_loss: 0.2470 - val_acc: 0.9000\n",
      "Epoch 90/100\n",
      "94/94 [==============================] - 734s - loss: 0.1490 - acc: 0.9426 - val_loss: 0.2420 - val_acc: 0.8800\n",
      "Epoch 91/100\n",
      "94/94 [==============================] - 734s - loss: 0.1485 - acc: 0.9466 - val_loss: 0.2523 - val_acc: 0.8900\n",
      "Epoch 92/100\n",
      "94/94 [==============================] - 733s - loss: 0.1618 - acc: 0.9406 - val_loss: 0.2263 - val_acc: 0.9050\n",
      "Epoch 93/100\n",
      "94/94 [==============================] - 735s - loss: 0.1383 - acc: 0.9468 - val_loss: 0.2522 - val_acc: 0.8800\n",
      "Epoch 94/100\n",
      "94/94 [==============================] - 735s - loss: 0.1305 - acc: 0.9559 - val_loss: 0.2295 - val_acc: 0.8900\n",
      "Epoch 95/100\n",
      "94/94 [==============================] - 734s - loss: 0.1541 - acc: 0.9346 - val_loss: 0.2082 - val_acc: 0.9200\n",
      "Epoch 96/100\n",
      "94/94 [==============================] - 734s - loss: 0.1415 - acc: 0.9501 - val_loss: 0.2568 - val_acc: 0.8750\n",
      "Epoch 97/100\n",
      "94/94 [==============================] - 735s - loss: 0.1423 - acc: 0.9461 - val_loss: 0.2644 - val_acc: 0.8850\n",
      "Epoch 98/100\n",
      "94/94 [==============================] - 734s - loss: 0.1329 - acc: 0.9519 - val_loss: 0.2411 - val_acc: 0.9000\n",
      "Epoch 99/100\n",
      "94/94 [==============================] - 734s - loss: 0.1559 - acc: 0.9306 - val_loss: 0.2079 - val_acc: 0.9050\n",
      "Epoch 100/100\n",
      "94/94 [==============================] - 735s - loss: 0.1470 - acc: 0.9488 - val_loss: 0.2643 - val_acc: 0.8700\n"
     ]
    }
   ],
   "source": [
    "history = model.fit_generator(\n",
    "        train_generator,\n",
    "        steps_per_epoch= int(np.ceil(1500 / batch_size)),\n",
    "        epochs=100,\n",
    "        validation_data=validation_generator,\n",
    "        validation_steps= int(np.ceil(200 / batch_size)))"
   ]
  },
  {
   "cell_type": "markdown",
   "metadata": {
    "collapsed": true
   },
   "source": [
    "If the accuracy in the beginning is very different from the accuracy in the bottleneck tranning, there's a problem.\n",
    "![alt text](markdown\\freeze.png)"
   ]
  },
  {
   "cell_type": "code",
   "execution_count": 6,
   "metadata": {
    "collapsed": true
   },
   "outputs": [],
   "source": [
    "model.save_weights('finetune_weights.h5')"
   ]
  },
  {
   "cell_type": "code",
   "execution_count": 21,
   "metadata": {
    "collapsed": true
   },
   "outputs": [],
   "source": [
    "np.save('history_finetune_dropout.573_lr.00001_momentum.9_epoch100_nesterov.npy', history.history)"
   ]
  },
  {
   "cell_type": "markdown",
   "metadata": {},
   "source": [
    "# Show the trainning history"
   ]
  },
  {
   "cell_type": "code",
   "execution_count": 22,
   "metadata": {},
   "outputs": [
    {
     "data": {
      "image/png": "[encoded data removed]",
      "text/plain": [
       "<matplotlib.figure.Figure at 0x7f42d8f05a58>"
      ]
     },
     "metadata": {},
     "output_type": "display_data"
    }
   ],
   "source": [
    "import matplotlib.pyplot as plt\n",
    "# print(history.history.keys())\n",
    "# summarize history for accuracy\n",
    "plt.plot(history.history['acc'])\n",
    "plt.plot(history.history['val_acc'])\n",
    "plt.title('model accuracy')\n",
    "plt.ylabel('accuracy')\n",
    "plt.xlabel('epoch')\n",
    "plt.legend(['train', 'validation'], loc='upper left')\n",
    "plt.show()"
   ]
  },
  {
   "cell_type": "code",
   "execution_count": 23,
   "metadata": {},
   "outputs": [
    {
     "data": {
      "image/png": "[encoded data removed]",
      "text/plain": [
       "<matplotlib.figure.Figure at 0x7f42d8ec69e8>"
      ]
     },
     "metadata": {},
     "output_type": "display_data"
    }
   ],
   "source": [
    "# summarize history for loss\n",
    "plt.plot(history.history['loss'])\n",
    "plt.plot(history.history['val_loss'])\n",
    "plt.title('model loss')\n",
    "plt.ylabel('loss')\n",
    "plt.xlabel('epoch')\n",
    "plt.legend(['train', 'validation'], loc='upper left')\n",
    "plt.show()"
   ]
  },
  {
   "cell_type": "markdown",
   "metadata": {},
   "source": [
    "# Evaluate the model using the test dateset"
   ]
  },
  {
   "cell_type": "code",
   "execution_count": 3,
   "metadata": {
    "collapsed": true
   },
   "outputs": [],
   "source": [
    "model.load_weights('finetune_weights.h5')"
   ]
  },
  {
   "cell_type": "code",
   "execution_count": 5,
   "metadata": {},
   "outputs": [
    {
     "name": "stdout",
     "output_type": "stream",
     "text": [
      "Found 128 images belonging to 2 classes.\n"
     ]
    }
   ],
   "source": [
    "from keras.preprocessing.image import ImageDataGenerator\n",
    "\n",
    "batch_size = 16\n",
    "\n",
    "test_datagen = ImageDataGenerator(rescale=1./255)\n",
    "\n",
    "test_generator = test_datagen.flow_from_directory(\n",
    "        'data/test',\n",
    "        target_size=(224, 224),\n",
    "        batch_size=batch_size,\n",
    "        class_mode='binary')"
   ]
  },
  {
   "cell_type": "code",
   "execution_count": 8,
   "metadata": {},
   "outputs": [
    {
     "data": {
      "text/plain": [
       "[0.39898041076958179, 0.8359375]"
      ]
     },
     "execution_count": 8,
     "metadata": {},
     "output_type": "execute_result"
    }
   ],
   "source": [
    "model.evaluate_generator(test_generator, steps=int(np.ceil(128 / batch_size)), max_queue_size=10, workers=1, use_multiprocessing=False)"
   ]
  },
  {
   "cell_type": "code",
   "execution_count": null,
   "metadata": {
    "collapsed": true
   },
   "outputs": [],
   "source": []
  }
 ],
 "metadata": {
  "kernelspec": {
   "display_name": "Python 3",
   "language": "python",
   "name": "python3"
  },
  "language_info": {
   "codemirror_mode": {
    "name": "ipython",
    "version": 3
   },
   "file_extension": ".py",
   "mimetype": "text/x-python",
   "name": "python",
   "nbconvert_exporter": "python",
   "pygments_lexer": "ipython3",
   "version": "3.5.3"
  }
 },
 "nbformat": 4,
 "nbformat_minor": 2
}
