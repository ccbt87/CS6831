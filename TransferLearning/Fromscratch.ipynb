{
 "cells": [
  {
   "cell_type": "markdown",
   "metadata": {
    "collapsed": true
   },
   "source": [
    "# Build the non-transfer learning model"
   ]
  },
  {
   "cell_type": "code",
   "execution_count": 8,
   "metadata": {
    "collapsed": true
   },
   "outputs": [],
   "source": [
    "import numpy as np\n",
    "from keras.models import Sequential\n",
    "from keras.layers import Conv2D, MaxPooling2D\n",
    "from keras.layers import Activation, Dropout, Flatten, Dense\n",
    "\n",
    "model = Sequential()\n",
    "model.add(Conv2D(32, (3, 3), input_shape=(224, 224, 3)))\n",
    "model.add(Activation('relu'))\n",
    "model.add(MaxPooling2D(pool_size=(2, 2)))\n",
    "\n",
    "model.add(Conv2D(32, (3, 3)))\n",
    "model.add(Activation('relu'))\n",
    "model.add(MaxPooling2D(pool_size=(2, 2)))\n",
    "\n",
    "model.add(Conv2D(64, (3, 3)))\n",
    "model.add(Activation('relu'))\n",
    "model.add(MaxPooling2D(pool_size=(2, 2)))"
   ]
  },
  {
   "cell_type": "code",
   "execution_count": 9,
   "metadata": {
    "collapsed": true
   },
   "outputs": [],
   "source": [
    "model.add(Flatten())  # this converts our 3D feature maps to 1D feature vectors\n",
    "model.add(Dense(64))\n",
    "model.add(Activation('relu'))\n",
    "model.add(Dropout(0.5))\n",
    "model.add(Dense(1))\n",
    "model.add(Activation('sigmoid'))\n",
    "\n",
    "model.compile(loss='binary_crossentropy',\n",
    "              optimizer='sgd',\n",
    "              metrics=['accuracy'])"
   ]
  },
  {
   "cell_type": "markdown",
   "metadata": {},
   "source": [
    "# Pre-processing the train and validation datasets"
   ]
  },
  {
   "cell_type": "code",
   "execution_count": 3,
   "metadata": {},
   "outputs": [
    {
     "name": "stdout",
     "output_type": "stream",
     "text": [
      "Found 1500 images belonging to 2 classes.\n",
      "Found 200 images belonging to 2 classes.\n"
     ]
    }
   ],
   "source": [
    "from keras.preprocessing.image import ImageDataGenerator\n",
    "\n",
    "batch_size = 16\n",
    "\n",
    "# this is the augmentation configuration we will use for training\n",
    "train_datagen = ImageDataGenerator(\n",
    "        rescale=1./255,\n",
    "        shear_range=0.2,\n",
    "        zoom_range=0.2,\n",
    "        horizontal_flip=True)\n",
    "\n",
    "# this is the augmentation configuration we will use for testing:\n",
    "# only rescaling\n",
    "validation_datagen = ImageDataGenerator(rescale=1./255)\n",
    "\n",
    "# this is a generator that will read pictures found in\n",
    "# subfolers of 'data/train', and indefinitely generate\n",
    "# batches of augmented image data\n",
    "train_generator = train_datagen.flow_from_directory(\n",
    "        'data/train',  # this is the target directory\n",
    "        target_size=(224, 224),  # all images will be resized to 150x150\n",
    "        batch_size=batch_size,\n",
    "        class_mode='binary')  # since we use binary_crossentropy loss, we need binary labels\n",
    "\n",
    "# this is a similar generator, for validation data\n",
    "validation_generator = validation_datagen.flow_from_directory(\n",
    "        'data/validation',\n",
    "        target_size=(224, 224),\n",
    "        batch_size=batch_size,\n",
    "        class_mode='binary')"
   ]
  },
  {
   "cell_type": "markdown",
   "metadata": {},
   "source": [
    "# Train the model"
   ]
  },
  {
   "cell_type": "code",
   "execution_count": 5,
   "metadata": {},
   "outputs": [
    {
     "name": "stdout",
     "output_type": "stream",
     "text": [
      "Epoch 1/37\n",
      "94/94 [==============================] - 83s - loss: 0.6407 - acc: 0.6425 - val_loss: 0.5676 - val_acc: 0.7250\n",
      "Epoch 2/37\n",
      "94/94 [==============================] - 82s - loss: 0.5882 - acc: 0.6930 - val_loss: 0.5328 - val_acc: 0.7950\n",
      "Epoch 3/37\n",
      "94/94 [==============================] - 82s - loss: 0.5366 - acc: 0.7471 - val_loss: 0.4589 - val_acc: 0.8300\n",
      "Epoch 4/37\n",
      "94/94 [==============================] - 85s - loss: 0.5135 - acc: 0.7688 - val_loss: 0.4214 - val_acc: 0.8450\n",
      "Epoch 5/37\n",
      "94/94 [==============================] - 83s - loss: 0.4907 - acc: 0.7655 - val_loss: 0.4547 - val_acc: 0.7900\n",
      "Epoch 6/37\n",
      "94/94 [==============================] - 82s - loss: 0.4931 - acc: 0.7739 - val_loss: 0.3881 - val_acc: 0.8450\n",
      "Epoch 7/37\n",
      "94/94 [==============================] - 79s - loss: 0.4626 - acc: 0.7808 - val_loss: 0.4547 - val_acc: 0.8400\n",
      "Epoch 8/37\n",
      "94/94 [==============================] - 79s - loss: 0.4564 - acc: 0.8032 - val_loss: 0.4241 - val_acc: 0.8450\n",
      "Epoch 9/37\n",
      "94/94 [==============================] - 80s - loss: 0.4608 - acc: 0.7996 - val_loss: 0.4607 - val_acc: 0.8200\n",
      "Epoch 10/37\n",
      "94/94 [==============================] - 82s - loss: 0.4480 - acc: 0.8003 - val_loss: 0.4243 - val_acc: 0.8300\n",
      "Epoch 11/37\n",
      "94/94 [==============================] - 80s - loss: 0.4426 - acc: 0.8036 - val_loss: 0.5403 - val_acc: 0.7350\n",
      "Epoch 12/37\n",
      "94/94 [==============================] - 82s - loss: 0.4180 - acc: 0.8070 - val_loss: 0.4324 - val_acc: 0.7800\n",
      "Epoch 13/37\n",
      "94/94 [==============================] - 83s - loss: 0.4320 - acc: 0.8067 - val_loss: 0.3921 - val_acc: 0.7900\n",
      "Epoch 14/37\n",
      "94/94 [==============================] - 83s - loss: 0.4154 - acc: 0.8183 - val_loss: 0.3876 - val_acc: 0.8650\n",
      "Epoch 15/37\n",
      "94/94 [==============================] - 81s - loss: 0.4013 - acc: 0.8242 - val_loss: 0.4234 - val_acc: 0.8200\n",
      "Epoch 16/37\n",
      "94/94 [==============================] - 79s - loss: 0.4050 - acc: 0.8282 - val_loss: 0.4080 - val_acc: 0.8300\n",
      "Epoch 17/37\n",
      "94/94 [==============================] - 78s - loss: 0.4089 - acc: 0.8191 - val_loss: 0.6234 - val_acc: 0.7200\n",
      "Epoch 18/37\n",
      "94/94 [==============================] - 79s - loss: 0.4220 - acc: 0.8273 - val_loss: 0.4180 - val_acc: 0.8350\n",
      "Epoch 19/37\n",
      "94/94 [==============================] - 80s - loss: 0.3946 - acc: 0.8318 - val_loss: 0.3879 - val_acc: 0.8100\n",
      "Epoch 20/37\n",
      "94/94 [==============================] - 79s - loss: 0.4003 - acc: 0.8238 - val_loss: 0.4101 - val_acc: 0.8250\n",
      "Epoch 21/37\n",
      "94/94 [==============================] - 80s - loss: 0.3730 - acc: 0.8433 - val_loss: 0.3580 - val_acc: 0.8400\n",
      "Epoch 22/37\n",
      "94/94 [==============================] - 79s - loss: 0.3811 - acc: 0.8367 - val_loss: 0.4056 - val_acc: 0.8200\n",
      "Epoch 23/37\n",
      "94/94 [==============================] - 80s - loss: 0.3978 - acc: 0.8344 - val_loss: 0.3562 - val_acc: 0.8400\n",
      "Epoch 24/37\n",
      "94/94 [==============================] - 79s - loss: 0.3862 - acc: 0.8360 - val_loss: 0.4046 - val_acc: 0.8400\n",
      "Epoch 25/37\n",
      "94/94 [==============================] - 78s - loss: 0.3653 - acc: 0.8382 - val_loss: 0.3745 - val_acc: 0.8400\n",
      "Epoch 26/37\n",
      "94/94 [==============================] - 79s - loss: 0.3829 - acc: 0.8389 - val_loss: 0.4206 - val_acc: 0.8300\n",
      "Epoch 27/37\n",
      "94/94 [==============================] - 81s - loss: 0.3665 - acc: 0.8488 - val_loss: 0.4322 - val_acc: 0.8200\n",
      "Epoch 28/37\n",
      "94/94 [==============================] - 81s - loss: 0.3549 - acc: 0.8453 - val_loss: 0.4077 - val_acc: 0.8100\n",
      "Epoch 29/37\n",
      "94/94 [==============================] - 79s - loss: 0.3602 - acc: 0.8477 - val_loss: 0.3786 - val_acc: 0.8350\n",
      "Epoch 30/37\n",
      "94/94 [==============================] - 80s - loss: 0.3623 - acc: 0.8442 - val_loss: 0.4248 - val_acc: 0.8250\n",
      "Epoch 31/37\n",
      "94/94 [==============================] - 79s - loss: 0.3632 - acc: 0.8502 - val_loss: 0.4204 - val_acc: 0.8250\n",
      "Epoch 32/37\n",
      "94/94 [==============================] - 79s - loss: 0.3495 - acc: 0.8601 - val_loss: 0.4416 - val_acc: 0.8250\n",
      "Epoch 33/37\n",
      "94/94 [==============================] - 81s - loss: 0.3698 - acc: 0.8398 - val_loss: 0.3865 - val_acc: 0.8350\n",
      "Epoch 34/37\n",
      "94/94 [==============================] - 80s - loss: 0.3483 - acc: 0.8577 - val_loss: 0.3786 - val_acc: 0.8400\n",
      "Epoch 35/37\n",
      "94/94 [==============================] - 79s - loss: 0.3410 - acc: 0.8429 - val_loss: 0.3592 - val_acc: 0.8350\n",
      "Epoch 36/37\n",
      "94/94 [==============================] - 79s - loss: 0.3344 - acc: 0.8548 - val_loss: 0.3768 - val_acc: 0.8200\n",
      "Epoch 37/37\n",
      "94/94 [==============================] - 80s - loss: 0.3476 - acc: 0.8520 - val_loss: 0.3293 - val_acc: 0.8500\n"
     ]
    }
   ],
   "source": [
    "history = model.fit_generator(\n",
    "        train_generator,\n",
    "        steps_per_epoch=int(np.ceil(1500 / batch_size)),\n",
    "        epochs=37,\n",
    "        validation_data=validation_generator,\n",
    "        validation_steps=int(np.ceil(200 / batch_size)))"
   ]
  },
  {
   "cell_type": "code",
   "execution_count": 6,
   "metadata": {
    "collapsed": true
   },
   "outputs": [],
   "source": [
    "model.save_weights('fromscratch_weights.h5')  # always save your weights after training or during training"
   ]
  },
  {
   "cell_type": "markdown",
   "metadata": {},
   "source": [
    "# Show the trainning history"
   ]
  },
  {
   "cell_type": "code",
   "execution_count": 7,
   "metadata": {},
   "outputs": [
    {
     "data": {
      "image/png": "[encoded data removed]",
      "text/plain": [
       "<matplotlib.figure.Figure at 0x2501ba51f60>"
      ]
     },
     "metadata": {},
     "output_type": "display_data"
    }
   ],
   "source": [
    "import matplotlib.pyplot as plt\n",
    "# print(history.history.keys())\n",
    "# summarize history for accuracy\n",
    "plt.plot(history.history['acc'])\n",
    "plt.plot(history.history['val_acc'])\n",
    "plt.title('model accuracy')\n",
    "plt.ylabel('accuracy')\n",
    "plt.xlabel('epoch')\n",
    "plt.legend(['train', 'validation'], loc='upper left')\n",
    "plt.show()"
   ]
  },
  {
   "cell_type": "code",
   "execution_count": 8,
   "metadata": {},
   "outputs": [
    {
     "data": {
      "image/png": "[encoded data removed]",
      "text/plain": [
       "<matplotlib.figure.Figure at 0x2501a60ae80>"
      ]
     },
     "metadata": {},
     "output_type": "display_data"
    }
   ],
   "source": [
    "# summarize history for loss\n",
    "plt.plot(history.history['loss'])\n",
    "plt.plot(history.history['val_loss'])\n",
    "plt.title('model loss')\n",
    "plt.ylabel('loss')\n",
    "plt.xlabel('epoch')\n",
    "plt.legend(['train', 'validation'], loc='upper left')\n",
    "plt.show()"
   ]
  },
  {
   "cell_type": "markdown",
   "metadata": {},
   "source": [
    "# Evaluate the model using the test dateset"
   ]
  },
  {
   "cell_type": "code",
   "execution_count": 4,
   "metadata": {
    "collapsed": true
   },
   "outputs": [],
   "source": [
    "model.load_weights('fromscratch_weights.h5')"
   ]
  },
  {
   "cell_type": "code",
   "execution_count": 6,
   "metadata": {},
   "outputs": [
    {
     "name": "stdout",
     "output_type": "stream",
     "text": [
      "Found 128 images belonging to 2 classes.\n"
     ]
    }
   ],
   "source": [
    "from keras.preprocessing.image import ImageDataGenerator\n",
    "\n",
    "batch_size = 16\n",
    "\n",
    "test_datagen = ImageDataGenerator(rescale=1./255)\n",
    "\n",
    "test_generator = test_datagen.flow_from_directory(\n",
    "        'data/test',\n",
    "        target_size=(224, 224),\n",
    "        batch_size=batch_size,\n",
    "        class_mode='binary')"
   ]
  },
  {
   "cell_type": "code",
   "execution_count": 12,
   "metadata": {},
   "outputs": [
    {
     "data": {
      "text/plain": [
       "[0.6813695877790451, 0.7109375]"
      ]
     },
     "execution_count": 12,
     "metadata": {},
     "output_type": "execute_result"
    }
   ],
   "source": [
    "model.evaluate_generator(test_generator, steps=int(np.ceil(128 / batch_size)), max_queue_size=10, workers=1, use_multiprocessing=False)"
   ]
  },
  {
   "cell_type": "code",
   "execution_count": 22,
   "metadata": {},
   "outputs": [
    {
     "data": {
      "text/plain": [
       "['loss', 'acc']"
      ]
     },
     "execution_count": 22,
     "metadata": {},
     "output_type": "execute_result"
    }
   ],
   "source": [
    "model.metrics_names"
   ]
  }
 ],
 "metadata": {
  "kernelspec": {
   "display_name": "Python 3",
   "language": "python",
   "name": "python3"
  },
  "language_info": {
   "codemirror_mode": {
    "name": "ipython",
    "version": 3
   },
   "file_extension": ".py",
   "mimetype": "text/x-python",
   "name": "python",
   "nbconvert_exporter": "python",
   "pygments_lexer": "ipython3",
   "version": "3.5.3"
  }
 },
 "nbformat": 4,
 "nbformat_minor": 2
}
